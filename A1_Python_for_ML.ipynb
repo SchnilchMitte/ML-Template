{
 "cells": [
  {
   "cell_type": "markdown",
   "metadata": {},
   "source": [
    "# [A1] Python for ML\n",
    "Machine Learning (ML) systems can be developed in a wide variety of languages. While a high performance is often easier to achive in a statically typed language like C++, Python has the great benefit of being very flexible and beginner-friendly. ML is still a very research-intensive subject with a lot of development being performed by scientists of mathematical background with no typical computer science or programming education.\n",
    "\n",
    "Lucky for us, these researchers are now no longer programming in their previously favourite proprietary software Matlab (or other solutions like Maple etc.) but instead opting for beginner friendly script-based programming languages like R and Python.\n",
    "\n",
    "Python is a great general-purpose programming language on its own, but with the help of a few popular libraries like _numpy_, _scipy_, _pandas_ and _matplotlib_, it becomes a powerful environment for scientific computing, sometimes refered to as PyData stack or environment.\n",
    "\n",
    "Many of you might have previous experience with Python and some may already know some of the libraries like _numpy_ as well. This first excercise will serve as a quick crash course both on the Python programming language and on the use of Python for scientific computing.\n",
    "\n",
    "Compared to a traditional lecture, the code in this notebook can not just be read, but can also be adapted. If you want to test how small changes affect the output of a command, just modify and re-run any cell.\n",
    "In addition to this \"👀 read-only\" part, there are four ✏️ excercises marked with a pencil emoji.\n",
    "\n",
    "## 1: Basics of Python\n",
    "In this section, we will cover basic python data types, containers (lists, dictionaries, sets and tuples), functions and classes.\n",
    "\n",
    "### 1.1: What is Python?\n",
    "Python is a high-level, dynamically typed multiparadigm programming language. \n",
    "Python code is often said to be almost like pseudocode, since it allows you to express very powerful ideas in very few lines of code while being very readable. \n",
    "As an example, here is an implementation of the classic [quicksort algorithm](https://en.wikipedia.org/wiki/Quicksort) in Python:"
   ]
  },
  {
   "cell_type": "code",
   "execution_count": 35,
   "metadata": {},
   "outputs": [
    {
     "name": "stdout",
     "output_type": "stream",
     "text": [
      "[1, 1, 2, 3, 6, 8, 10]\n"
     ]
    }
   ],
   "source": [
    "def quicksort(arr):\n",
    "    if len(arr) <= 1:\n",
    "        return arr\n",
    "    pivot = arr[len(arr) // 2]\n",
    "    left = [x for x in arr if x < pivot]\n",
    "    middle = [x for x in arr if x == pivot]\n",
    "    right = [x for x in arr if x > pivot]\n",
    "    return quicksort(left) + middle + quicksort(right)\n",
    "\n",
    "print(quicksort([3,6,8,10,1,2,1]))"
   ]
  },
  {
   "cell_type": "markdown",
   "metadata": {},
   "source": [
    "You might not understand every part of the syntax yet, but still can already get an idea of how this sorting algorithm works.\n",
    "\n",
    "When searching the internet for python code, you might occasionally stumble across **Python 2** code. Python 2.x is the default version of python on a lot of older operating systems, however it has been deprecated for a while now and is no longer supported. This code can be incompatible with newer versions of Python.\n",
    "\n",
    "This lab will be using **Python 3**.\n",
    "We recommend installing the latest stable version (**Python 3.10.x** at the time of writing) from [python.org](https://www.python.org/downloads/) to your system.\n",
    "\n",
    "You can check your Python version by running the following code:"
   ]
  },
  {
   "cell_type": "code",
   "execution_count": 36,
   "metadata": {},
   "outputs": [
    {
     "name": "stdout",
     "output_type": "stream",
     "text": [
      "3.11.3 (main, Apr 12 2023, 14:31:14) [GCC 10.2.1 20210110]\n"
     ]
    }
   ],
   "source": [
    "import sys\n",
    "print(sys.version) "
   ]
  },
  {
   "cell_type": "markdown",
   "metadata": {},
   "source": [
    "What you are currently seeing is not only Python, but a so-called **Jupyter Notebook**. It is composed of multiple cells that can be either a \"comment\" in the Markdown format or traditional Python code. To run these notebooks, you need to install a python package, as described on [jupyter.org](https://jupyter.org/install).\n",
    "\n",
    "We recommend installing **JupyterLab**. If you have followed the installation steps of readme.md, you have already installed python and jupyter and the following command will output the relevant version numbers:"
   ]
  },
  {
   "cell_type": "code",
   "execution_count": 1,
   "metadata": {},
   "outputs": [
    {
     "name": "stdout",
     "output_type": "stream",
     "text": [
      "Selected Jupyter core packages...\n",
      "IPython          : 9.0.2\n",
      "ipykernel        : 6.29.5\n",
      "ipywidgets       : 8.1.5\n",
      "jupyter_client   : 8.6.3\n",
      "jupyter_core     : 5.7.2\n",
      "jupyter_server   : 2.15.0\n",
      "jupyterlab       : 4.3.6\n",
      "nbclient         : 0.10.2\n",
      "nbconvert        : 7.16.6\n",
      "nbformat         : 5.10.4\n",
      "notebook         : 7.3.3\n",
      "qtconsole        : 5.6.1\n",
      "traitlets        : 5.14.3\n"
     ]
    }
   ],
   "source": [
    "!jupyter --version"
   ]
  },
  {
   "cell_type": "markdown",
   "metadata": {},
   "source": [
    "The ``!`` at the start of the line indicates that this cell is not executed as python code, but as a regular terminal command.\n",
    "\n",
    "### 1.2: Basic data types\n",
    "#### 1.2.1: Numbers\n",
    "Integers and floats work as you would expect from other languages.\n",
    "\n",
    "Python is dynamically-typed, which means you do not need to specify the data type and it will guess which one fits best."
   ]
  },
  {
   "cell_type": "code",
   "execution_count": 38,
   "metadata": {},
   "outputs": [
    {
     "name": "stdout",
     "output_type": "stream",
     "text": [
      "3 <class 'int'>\n",
      "4\n"
     ]
    }
   ],
   "source": [
    "a = 3               # Assignment\n",
    "print(a, type(a))\n",
    "\n",
    "print(2 + 2)"
   ]
  },
  {
   "cell_type": "markdown",
   "metadata": {},
   "source": [
    "Basic Operations:"
   ]
  },
  {
   "cell_type": "code",
   "execution_count": 39,
   "metadata": {},
   "outputs": [
    {
     "name": "stdout",
     "output_type": "stream",
     "text": [
      "4\n",
      "2\n",
      "6\n",
      "9\n",
      "3\n"
     ]
    }
   ],
   "source": [
    "x = 3\n",
    "print(x + 1)        # Addition\n",
    "print(x - 1)        # Subtraction\n",
    "print(x * 2)        # Multiplication\n",
    "print(x ** 2)       # Exponentiation\n",
    "print(x)"
   ]
  },
  {
   "cell_type": "markdown",
   "metadata": {},
   "source": [
    "Assignment Operations:"
   ]
  },
  {
   "cell_type": "code",
   "execution_count": 40,
   "metadata": {},
   "outputs": [
    {
     "name": "stdout",
     "output_type": "stream",
     "text": [
      "4\n",
      "8\n"
     ]
    }
   ],
   "source": [
    "x = 3\n",
    "\n",
    "x += 1              # addition assignment operator, equal to x = x + 1 \n",
    "print(x)\n",
    "\n",
    "x *= 2              # x = x * 2 \n",
    "print(x)"
   ]
  },
  {
   "cell_type": "markdown",
   "metadata": {},
   "source": [
    "Note that unlike many languages, Python does not have unary increment (``x++``) or decrement (``x--``) operators.\n",
    "\n",
    "Floating point numbers can be used the same as Integers:"
   ]
  },
  {
   "cell_type": "code",
   "execution_count": 41,
   "metadata": {},
   "outputs": [
    {
     "name": "stdout",
     "output_type": "stream",
     "text": [
      "<class 'float'>\n",
      "2.5 3.5 5.0 6.25\n"
     ]
    }
   ],
   "source": [
    "y = 2.5\n",
    "print(type(y))\n",
    "\n",
    "print(y, y + 1, y * 2, y ** 2 )"
   ]
  },
  {
   "cell_type": "markdown",
   "metadata": {},
   "source": [
    "Type conversions between numbers will be done automatically, however strings will need to be parsed explicitly:"
   ]
  },
  {
   "cell_type": "code",
   "execution_count": 42,
   "metadata": {},
   "outputs": [
    {
     "name": "stdout",
     "output_type": "stream",
     "text": [
      "10.5 <class 'float'>\n",
      "10.5 <class 'float'>\n",
      "9.3\n"
     ]
    }
   ],
   "source": [
    "x = 8\n",
    "y = 2.5\n",
    "z = x + y\n",
    "\n",
    "print(z, type(z))\n",
    "\n",
    "x += y\n",
    "print(x, type(x))\n",
    "\n",
    "print(3 + int(\"4\") + float(\"2.3\"))\n"
   ]
  },
  {
   "cell_type": "markdown",
   "metadata": {},
   "source": [
    "#### 1.2.2: Booleans\n",
    "Python implements all of the usual operators for Boolean logic, but uses english words rather than symbols like `&&` or  `||`"
   ]
  },
  {
   "cell_type": "code",
   "execution_count": 43,
   "metadata": {},
   "outputs": [
    {
     "name": "stdout",
     "output_type": "stream",
     "text": [
      "<class 'bool'>\n"
     ]
    }
   ],
   "source": [
    "t, f = True, False\n",
    "\n",
    "print(type(t))"
   ]
  },
  {
   "cell_type": "code",
   "execution_count": 44,
   "metadata": {},
   "outputs": [
    {
     "name": "stdout",
     "output_type": "stream",
     "text": [
      "False\n",
      "True\n",
      "False\n"
     ]
    }
   ],
   "source": [
    "print(t and f)      # Logical AND\n",
    "print(t or f)       # Logical OR\n",
    "print(not t)        # Logical NOT"
   ]
  },
  {
   "cell_type": "markdown",
   "metadata": {},
   "source": [
    "Comparisons will also return boolean values:"
   ]
  },
  {
   "cell_type": "code",
   "execution_count": 45,
   "metadata": {},
   "outputs": [
    {
     "name": "stdout",
     "output_type": "stream",
     "text": [
      "True\n"
     ]
    }
   ],
   "source": [
    "b = 3 < 6\n",
    "print(b)"
   ]
  },
  {
   "cell_type": "markdown",
   "metadata": {},
   "source": [
    "Further comparison operators can be found in the [Python documentation](https://docs.python.org/3/library/stdtypes.html#comparisons).\n",
    "\n",
    "Any expression evaluating to a boolean value can be used in if-statements like this:"
   ]
  },
  {
   "cell_type": "code",
   "execution_count": 46,
   "metadata": {},
   "outputs": [
    {
     "name": "stdout",
     "output_type": "stream",
     "text": [
      "value is smaller than 6\n"
     ]
    }
   ],
   "source": [
    "val = 3\n",
    "if(val < 6):\n",
    "    print(\"value is smaller than 6\")\n",
    "elif(val > 6):\n",
    "    print(\"value is greater than 6\")\n",
    "else:\n",
    "    print(\"value is 6\")"
   ]
  },
  {
   "cell_type": "markdown",
   "metadata": {},
   "source": [
    "\n",
    "#### 1.2.3: Strings\n",
    "Strings can be defined using either double or single quotes, depending on your choice. You might want to choose a character that is not included in your string to avoid the need to escape characters."
   ]
  },
  {
   "cell_type": "code",
   "execution_count": 47,
   "metadata": {},
   "outputs": [
    {
     "name": "stdout",
     "output_type": "stream",
     "text": [
      "hello 5\n"
     ]
    }
   ],
   "source": [
    "hello = 'hello'\n",
    "world = \"world\"\n",
    "print(hello, len(hello))"
   ]
  },
  {
   "cell_type": "markdown",
   "metadata": {},
   "source": [
    "Strings can be concatenated using ``+``."
   ]
  },
  {
   "cell_type": "code",
   "execution_count": 48,
   "metadata": {},
   "outputs": [
    {
     "name": "stdout",
     "output_type": "stream",
     "text": [
      "hello world\n"
     ]
    }
   ],
   "source": [
    "hw = hello + ' ' + world    # the ' ' adds a space between the two words\n",
    "print(hw)"
   ]
  },
  {
   "cell_type": "markdown",
   "metadata": {},
   "source": [
    "Numbers need to be explicitly converted to strings first."
   ]
  },
  {
   "cell_type": "code",
   "execution_count": 49,
   "metadata": {},
   "outputs": [
    {
     "name": "stdout",
     "output_type": "stream",
     "text": [
      "Hi Tom, you are 21 years old.\n"
     ]
    }
   ],
   "source": [
    "name = \"Tom\"\n",
    "age = 21\n",
    "\n",
    "print(\"Hi \" + name + \", you are \" + str(age) + \" years old.\")"
   ]
  },
  {
   "cell_type": "markdown",
   "metadata": {},
   "source": [
    "There are a variety of formatting options available for strings, to avoid the use of many `+` and conversions, which would be less readable.\n",
    "\n",
    "**%-formatting**: Deprecated but still seen in older source code:"
   ]
  },
  {
   "cell_type": "code",
   "execution_count": 50,
   "metadata": {},
   "outputs": [
    {
     "name": "stdout",
     "output_type": "stream",
     "text": [
      "Hi Tom, you are 21 years old.\n"
     ]
    }
   ],
   "source": [
    "print(\"Hi %s, you are %d years old.\"  % (name, age))"
   ]
  },
  {
   "cell_type": "markdown",
   "metadata": {},
   "source": [
    "**str.format()**: Introduced in Python 2.6:"
   ]
  },
  {
   "cell_type": "code",
   "execution_count": 51,
   "metadata": {},
   "outputs": [
    {
     "name": "stdout",
     "output_type": "stream",
     "text": [
      "Hi Tom, you are 21 years old.\n",
      "Hi Tom, you are 21 years old.\n"
     ]
    }
   ],
   "source": [
    "print(\"Hi {}, you are {} years old.\".format(name, age))\n",
    "print(\"Hi {student_name}, you are {student_age} years old.\".format(student_age=age, student_name=name))"
   ]
  },
  {
   "cell_type": "markdown",
   "metadata": {},
   "source": [
    "They have the disadvantage that their readability decreases with longer strings, as you constantly have to jump back and forth between the template and the values and lines can get very long.\n",
    "\n",
    "**f-strings:** Introduced in Python 3.6:"
   ]
  },
  {
   "cell_type": "code",
   "execution_count": 52,
   "metadata": {},
   "outputs": [
    {
     "name": "stdout",
     "output_type": "stream",
     "text": [
      "Hi Tom, you are 21 years old.\n"
     ]
    }
   ],
   "source": [
    "print(f\"Hi {name}, you are {age} years old.\")"
   ]
  },
  {
   "cell_type": "markdown",
   "metadata": {},
   "source": [
    "There can be any kind of expression inside these brackets, not just variables. Functions can be called and operations can be evaluated:"
   ]
  },
  {
   "cell_type": "code",
   "execution_count": 53,
   "metadata": {},
   "outputs": [
    {
     "name": "stdout",
     "output_type": "stream",
     "text": [
      "Hi Tom, next year you will be 22 years old.\n"
     ]
    }
   ],
   "source": [
    "print(f\"Hi {name}, next year you will be {age + 1} years old.\")"
   ]
  },
  {
   "cell_type": "markdown",
   "metadata": {},
   "source": [
    "Multiline-Strings can be generated using triple quotes or by inserting the newline-symbol \"\\n\" into the string:"
   ]
  },
  {
   "cell_type": "code",
   "execution_count": 54,
   "metadata": {},
   "outputs": [
    {
     "name": "stdout",
     "output_type": "stream",
     "text": [
      "hello\n",
      "world\n",
      "\n",
      "\n",
      "hello\n",
      "world\n"
     ]
    }
   ],
   "source": [
    "aa = \"\"\"hello\n",
    "world\"\"\"\n",
    "\n",
    "ab = \"hello\\nworld\"\n",
    "\n",
    "print(aa)\n",
    "print(\"\\n\")\n",
    "print(ab)"
   ]
  },
  {
   "cell_type": "markdown",
   "metadata": {},
   "source": [
    "By the way, any statement can be split over multiple lines of code by using either ``()`` or by escaping the new-line using a ``\\`` symbol.\n",
    "\n",
    "Note that this does not add newline symbols."
   ]
  },
  {
   "cell_type": "code",
   "execution_count": 55,
   "metadata": {},
   "outputs": [
    {
     "name": "stdout",
     "output_type": "stream",
     "text": [
      "helloworld helloworld\n"
     ]
    }
   ],
   "source": [
    "hello = \"hello\"\n",
    "world = \"world\"\n",
    "\n",
    "\n",
    "ac = (hello\n",
    "      + world)\n",
    "\n",
    "ad = hello \\\n",
    "     + world\n",
    "\n",
    "print(ac, ad)"
   ]
  },
  {
   "cell_type": "markdown",
   "metadata": {},
   "source": [
    "Every string object has a bunch of useful methods for string manipulation, for example:"
   ]
  },
  {
   "cell_type": "code",
   "execution_count": 56,
   "metadata": {},
   "outputs": [
    {
     "name": "stdout",
     "output_type": "stream",
     "text": [
      "Hello\n",
      "HELLO\n",
      "  hello\n",
      " hello \n",
      "he(ell)(ell)o\n",
      "hello\n"
     ]
    }
   ],
   "source": [
    "s = \"hello\"\n",
    "print(s.capitalize())           # Capitalize a string\n",
    "print(s.upper())                # Convert a string to uppercase\n",
    "print(s.rjust(7))               # Right-justify a string, padding with spaces\n",
    "print(s.center(7))              # Center a string, padding with spaces\n",
    "print(s.replace(\"l\", \"(ell)\"))  # Replace all instances of one substring with another\n",
    "print(\"  hello \".strip())       # Strip leading and trailing whitespace"
   ]
  },
  {
   "cell_type": "markdown",
   "metadata": {},
   "source": [
    "### 1.3: Container data types\n",
    "Python includes several built-in container types: lists, dictionaries, sets, and tuples.\n",
    "\n",
    "#### 1.3.1: Lists\n",
    "Lists are variable-length and their contents can be modified in-place. \n",
    "You can define them using square brackets ``[ ]`` or the ``list()`` function.\n",
    "\n",
    "A list is the Python equivalent of an array, but is resizeable and can contain elements of different types:"
   ]
  },
  {
   "cell_type": "code",
   "execution_count": 57,
   "metadata": {},
   "outputs": [
    {
     "name": "stdout",
     "output_type": "stream",
     "text": [
      "[1, 2, 3, 4, 7, 8]\n",
      "[5, 6, 7, 8]\n"
     ]
    }
   ],
   "source": [
    "a_list = [1, 2, 3, 4, 7, 8]\n",
    "print(a_list)\n",
    "\n",
    "b_list = list([5, 6, 7, 8])\n",
    "print(b_list)"
   ]
  },
  {
   "cell_type": "markdown",
   "metadata": {},
   "source": [
    "Elements can be appendend to the end of the list with the ``append()`` method. \n",
    "Using ``insert()``, you can insert an element at a specific position.\n",
    "The inverse operation to ``insert()`` is ``pop()``, which removes and returns an element at a particular index. "
   ]
  },
  {
   "cell_type": "code",
   "execution_count": 58,
   "metadata": {},
   "outputs": [
    {
     "name": "stdout",
     "output_type": "stream",
     "text": [
      "[1, 2, 3, 4, 7, 8, 7]\n",
      "[3, 5, 6, 7, 8]\n",
      "[1, 2, 4, 7, 8, 7]\n"
     ]
    }
   ],
   "source": [
    "a_list.append(7)\n",
    "print(a_list)\n",
    "\n",
    "b_list.insert(0, 3)\n",
    "print(b_list)\n",
    "\n",
    "a_list.pop(2)\n",
    "print(a_list)"
   ]
  },
  {
   "cell_type": "markdown",
   "metadata": {},
   "source": [
    "Note that these functions apply changes to the original list they are called on.\n",
    "\n",
    "Lists can be concatenated together with ``+``, similar to strings. This creates a new list:"
   ]
  },
  {
   "cell_type": "code",
   "execution_count": 59,
   "metadata": {},
   "outputs": [
    {
     "name": "stdout",
     "output_type": "stream",
     "text": [
      "[1, 2, 4, 7, 8, 7, 3, 5, 6, 7, 8]\n"
     ]
    }
   ],
   "source": [
    "c_list = a_list + b_list\n",
    "print(c_list)"
   ]
  },
  {
   "cell_type": "markdown",
   "metadata": {},
   "source": [
    "Specfic entries of a list can be accessed using square brackets ``[ ]``. \n",
    "Multiple entries (sublists) can be accessed by what is called **slicing**.\n",
    "\n",
    "Slicing in its basic form consits of ``start:stop`` passed by the indexing operator ``[ ]``.\n",
    "While the element at the ``start`` index is included, the element at the ``stop`` index is not included.\n"
   ]
  },
  {
   "cell_type": "code",
   "execution_count": 60,
   "metadata": {},
   "outputs": [
    {
     "name": "stdout",
     "output_type": "stream",
     "text": [
      "6\n",
      "[1, 2, 3]\n"
     ]
    }
   ],
   "source": [
    "seq = [0, 1, 2, 3, 4, 5, 6, 7, 8, 9]\n",
    "\n",
    "a_entry = seq[6]\n",
    "print(a_entry)\n",
    "\n",
    "a_seq = seq[1:4]\n",
    "print(a_seq)"
   ]
  },
  {
   "cell_type": "markdown",
   "metadata": {},
   "source": [
    "Either the ``start`` or ``stop`` can be omitted, in which case they default to the start of the sequence and the end of the sequence, respectively."
   ]
  },
  {
   "cell_type": "code",
   "execution_count": 61,
   "metadata": {},
   "outputs": [
    {
     "name": "stdout",
     "output_type": "stream",
     "text": [
      "[0, 1, 2, 3, 4]\n",
      "[3, 4, 5, 6, 7, 8, 9]\n"
     ]
    }
   ],
   "source": [
    "#seq = [0, 1, 2, 3, 4, 5, 6, 7, 8, 9]\n",
    "b_seq = seq[:5]\n",
    "print(b_seq)\n",
    "\n",
    "c_seq = seq[3:]\n",
    "print(c_seq)"
   ]
  },
  {
   "cell_type": "markdown",
   "metadata": {},
   "source": [
    "You can loop over the elements of a list like this:"
   ]
  },
  {
   "cell_type": "code",
   "execution_count": 62,
   "metadata": {},
   "outputs": [
    {
     "name": "stdout",
     "output_type": "stream",
     "text": [
      "cat\n",
      "dog\n",
      "monkey\n"
     ]
    }
   ],
   "source": [
    "animal_list = [\"cat\", \"dog\", \"monkey\"]\n",
    "for animal in animal_list:\n",
    "    print(animal)"
   ]
  },
  {
   "cell_type": "markdown",
   "metadata": {},
   "source": [
    "If you want access to the index of each element within the body of a loop, use the built-in `enumerate` function:"
   ]
  },
  {
   "cell_type": "code",
   "execution_count": 63,
   "metadata": {},
   "outputs": [
    {
     "name": "stdout",
     "output_type": "stream",
     "text": [
      "#0: cat\n",
      "#1: dog\n",
      "#2: monkey\n"
     ]
    }
   ],
   "source": [
    "for idx, animal in enumerate(animal_list):\n",
    "    print(f\"#{idx}: {animal}\")"
   ]
  },
  {
   "cell_type": "markdown",
   "metadata": {},
   "source": [
    "The length of a list can be accessed using the ``len()`` function."
   ]
  },
  {
   "cell_type": "code",
   "execution_count": 30,
   "metadata": {},
   "outputs": [
    {
     "name": "stdout",
     "output_type": "stream",
     "text": [
      "3\n"
     ]
    }
   ],
   "source": [
    "print(len(animal_list))"
   ]
  },
  {
   "cell_type": "markdown",
   "metadata": {},
   "source": [
    "#### 1.3.2: ✏️ Lists Exercises\n",
    "1. Sum all the items in a list by using a ``for``-loop (example: ``[1,2,3] -> 6``)"
   ]
  },
  {
   "cell_type": "code",
   "execution_count": 65,
   "metadata": {},
   "outputs": [],
   "source": [
    "list_1 = [1, 2, 43, 99]\n",
    "res = 0\n",
    "for x in list_1:\n",
    "    res+=x\n",
    "# TODO: Implement"
   ]
  },
  {
   "cell_type": "markdown",
   "metadata": {},
   "source": [
    "2. Get the largest number from a list by using a ``for``-loop (example: ``[3,4,1,5,9,2] -> 9``)"
   ]
  },
  {
   "cell_type": "code",
   "execution_count": null,
   "metadata": {},
   "outputs": [
    {
     "name": "stdout",
     "output_type": "stream",
     "text": [
      "99\n"
     ]
    }
   ],
   "source": [
    "list_2 = [1, 2, 43, 99, 3, 2, 8]\n",
    "largest = list_2[0]\n",
    "\n",
    "for x in list_2:\n",
    "    if x > largest:\n",
    "        largest = x\n",
    "        \n",
    "print(largest)\n",
    "# TODO: Implement"
   ]
  },
  {
   "cell_type": "markdown",
   "metadata": {},
   "source": [
    "3. Find the list of words that are longer than ``n`` from a given list of words (example: ['cat', 'dog', 'bird', 'monkey'], n=3 -> ['bird', 'monkey'])"
   ]
  },
  {
   "cell_type": "code",
   "execution_count": 67,
   "metadata": {},
   "outputs": [
    {
     "name": "stdout",
     "output_type": "stream",
     "text": [
      "['bird', 'monkey']\n"
     ]
    }
   ],
   "source": [
    "list_3 = ['cat', 'dog', 'bird', 'monkey']\n",
    "n = 3\n",
    "res = [x for x in list_3 if len(x)>n]\n",
    "print(res)\n",
    "# TODO: Implement"
   ]
  },
  {
   "cell_type": "markdown",
   "metadata": {},
   "source": [
    "#### 1.3.3: Dictionaries"
   ]
  },
  {
   "cell_type": "markdown",
   "metadata": {},
   "source": [
    "A dictionary (also known as hash map or associative array) is a flexible sized collection of key-value pairs, where key and value are Python objects.\n",
    "\n",
    "They can be created using a JSON-like syntax with curly braces ``{}`` and colons ``:`` to separate keys and values."
   ]
  },
  {
   "cell_type": "code",
   "execution_count": 74,
   "metadata": {},
   "outputs": [
    {
     "name": "stdout",
     "output_type": "stream",
     "text": [
      "{}\n",
      "{'a': 'some value', 'b': [1, 2, 3, 4]}\n"
     ]
    }
   ],
   "source": [
    "empty_dict = {}\n",
    "print(empty_dict)\n",
    "\n",
    "dict_1 = {\"a\": \"some value\", \"b\": [1, 2, 3, 4]}\n",
    "print(dict_1)"
   ]
  },
  {
   "cell_type": "markdown",
   "metadata": {},
   "source": [
    "You can access, insert or set elements using the same syntax as for lists:"
   ]
  },
  {
   "cell_type": "code",
   "execution_count": 76,
   "metadata": {},
   "outputs": [
    {
     "name": "stdout",
     "output_type": "stream",
     "text": [
      "some value\n",
      "{'a': 'some value', 'b': [1, 2, 3, 4], 7: 'an integer as key'}\n"
     ]
    }
   ],
   "source": [
    "print(dict_1[\"a\"])\n",
    "\n",
    "dict_1[7] = \"an integer as key\"\n",
    "print(dict_1)"
   ]
  },
  {
   "cell_type": "markdown",
   "metadata": {},
   "source": [
    "You can delete values by either using the ``del`` keyword or the ``pop`` method. "
   ]
  },
  {
   "cell_type": "code",
   "execution_count": 36,
   "metadata": {},
   "outputs": [
    {
     "name": "stdout",
     "output_type": "stream",
     "text": [
      "{'a': 'some value', 'b': [1, 2, 3, 4], 7: 'an integer as key', 5: 'some other value', 6: 'one more value'}\n",
      "{'a': 'some value', 'b': [1, 2, 3, 4], 7: 'an integer as key'}\n"
     ]
    }
   ],
   "source": [
    "dict_1[5] = \"some other value\"\n",
    "dict_1[6] = \"one more value\"\n",
    "print(dict_1)\n",
    "\n",
    "del dict_1[5]\n",
    "dict_1.pop(6)\n",
    "print(dict_1)"
   ]
  },
  {
   "cell_type": "markdown",
   "metadata": {},
   "source": [
    "Checking if a key is in a dictionary can be done using the `in` operator:"
   ]
  },
  {
   "cell_type": "code",
   "execution_count": 79,
   "metadata": {},
   "outputs": [
    {
     "name": "stdout",
     "output_type": "stream",
     "text": [
      "Key does not exist yet.\n"
     ]
    }
   ],
   "source": [
    "if 'my_key' not in dict_1:\n",
    "    print(\"Key does not exist yet.\")"
   ]
  },
  {
   "cell_type": "markdown",
   "metadata": {},
   "source": [
    "Using a dict as an iterable in the ``for``-loop will iterate over the keys of the dictionary. \n",
    "If you want to access both the keys and their corresponding values, you can use the ``dict.items()`` method"
   ]
  },
  {
   "cell_type": "code",
   "execution_count": 38,
   "metadata": {},
   "outputs": [
    {
     "name": "stdout",
     "output_type": "stream",
     "text": [
      "A person has 2 legs\n",
      "A cat has 4 legs\n",
      "A spider has 8 legs\n",
      "\n",
      "\n",
      "A person has 2 legs\n",
      "A cat has 4 legs\n",
      "A spider has 8 legs\n"
     ]
    }
   ],
   "source": [
    "species_and_legs = {\"person\": 2, \"cat\": 4, \"spider\": 8}\n",
    "for species in species_and_legs:\n",
    "    print(f\"A {species} has {species_and_legs[species]} legs\")\n",
    "\n",
    "print(\"\\n\")\n",
    "\n",
    "for species, legs in species_and_legs.items():\n",
    "    print(f\"A {species} has {legs} legs\")"
   ]
  },
  {
   "cell_type": "markdown",
   "metadata": {},
   "source": [
    "#### 1.3.4: ✏️ Dictionaries Excercises\n",
    "1. Create a dictionary of size $ n + 1 $ with the keys $ x_i $ being $ \\in [0, n] $ and the values to these keys being $ x_i * x_i $ respectively (example: ``3 -> {0:0, 1:1, 2:4, 3:9}``)"
   ]
  },
  {
   "cell_type": "code",
   "execution_count": 87,
   "metadata": {},
   "outputs": [
    {
     "name": "stdout",
     "output_type": "stream",
     "text": [
      "{0: 0, 1: 1, 2: 4, 3: 9, 4: 16, 5: 25}\n",
      "{0: 0, 1: 1, 2: 4, 3: 9, 4: 16, 5: 25}\n"
     ]
    }
   ],
   "source": [
    "n = 5\n",
    "dict_a ={}\n",
    "for x in range(n+1):\n",
    "    dict_a[x] = x**2\n",
    "print(dict_a)\n",
    "\n",
    "#other way\n",
    "res = {x:x **2 for x in range(n+1) } \n",
    "print(res)\n",
    "# TODO: Implement"
   ]
  },
  {
   "cell_type": "markdown",
   "metadata": {},
   "source": [
    "\n",
    "2. For the given list of dictionaries, count how often a certain number appears in these lists (examples: ``44 -> 1; 81 -> 2; 12 -> 3``)"
   ]
  },
  {
   "cell_type": "code",
   "execution_count": 99,
   "metadata": {},
   "outputs": [
    {
     "name": "stdout",
     "output_type": "stream",
     "text": [
      "{12: 3, 33: 1, 44: 1, 69: 1, 81: 2, 7: 2, 49: 1, 55: 1, 1: 1, 30: 1, 98: 1}\n",
      "[12, 33, 44, 69, 81, 7, 12, 49, 55, 81, 1, 7, 12, 30, 98]\n",
      "{12: 3, 33: 1, 44: 1, 69: 1, 81: 2, 7: 2, 49: 1, 55: 1, 1: 1, 30: 1, 98: 1}\n"
     ]
    }
   ],
   "source": [
    "list_of_dicts = [\n",
    "    {\"name\": \"Lary\", \"favourite_numbers\": [12, 33, 44, 69, 81]},\n",
    "    {\"name\": \"Olli\", \"favourite_numbers\": [7, 12, 49, 55, 81]},\n",
    "    {\"name\": \"Mike\", \"favourite_numbers\": [1, 7, 12, 30, 98]},\n",
    "]\n",
    "num = 81\n",
    "cnt_Elem = {}\n",
    "for dict in list_of_dicts:\n",
    "    for elem in dict[\"favourite_numbers\"]:\n",
    "        if elem in cnt_Elem:\n",
    "            cnt_Elem[elem] +=1\n",
    "        else:\n",
    "            cnt_Elem[elem] = 1\n",
    "        \n",
    "print(cnt_Elem)\n",
    "#alternatve with comps\n",
    "combined = [num for x in list_of_dicts for num in x[\"favourite_numbers\"]]\n",
    "\n",
    "print(combined)\n",
    "\n",
    "counter_Dict = {}\n",
    "for elem in combined:\n",
    "    if elem in counter_Dict:\n",
    "        counter_Dict[elem] += 1\n",
    "    else: \n",
    "        counter_Dict[elem] = 1\n",
    "\n",
    "print(counter_Dict)\n",
    "# TODO: Implement"
   ]
  },
  {
   "cell_type": "markdown",
   "metadata": {},
   "source": [
    "#### 1.3.3: Sets\n",
    "A set is an unordered collection of unique elements. You can think of them like unordered lists without duplicates; or dicts, but keys only. \n",
    "\n",
    "A set can be created in two ways: via the ``set`` function or via curly braces."
   ]
  },
  {
   "cell_type": "code",
   "execution_count": 100,
   "metadata": {},
   "outputs": [
    {
     "name": "stdout",
     "output_type": "stream",
     "text": [
      "{1, 2, 3, 4}\n",
      "{8, 1, 2, 3}\n"
     ]
    }
   ],
   "source": [
    "set_1 = set([2, 2, 3, 3, 2, 2, 1, 1, 2, 4])\n",
    "print(set_1)\n",
    "\n",
    "set_2 = {1, 2, 3, 2, 1, 2, 3, 8}\n",
    "print(set_2)\n"
   ]
  },
  {
   "cell_type": "markdown",
   "metadata": {},
   "source": [
    "You can add and remove elements to or from a set using the ``add()`` and ``remove()`` functions."
   ]
  },
  {
   "cell_type": "code",
   "execution_count": 101,
   "metadata": {},
   "outputs": [
    {
     "name": "stdout",
     "output_type": "stream",
     "text": [
      "{1, 2, 3, 8, 42}\n",
      "{1, 3, 8, 42}\n"
     ]
    }
   ],
   "source": [
    "set_2.add(42)\n",
    "print(set_2)\n",
    "\n",
    "set_2.remove(2)\n",
    "print(set_2)"
   ]
  },
  {
   "cell_type": "markdown",
   "metadata": {},
   "source": [
    "To form the union of two sets (which is equal to a concatenation), use ``set.union()``.\n",
    "Note that this operation does not act in-place but creates a new set instead."
   ]
  },
  {
   "cell_type": "code",
   "execution_count": 43,
   "metadata": {},
   "outputs": [
    {
     "name": "stdout",
     "output_type": "stream",
     "text": [
      "{1, 2, 3, 4}\n",
      "{1, 2, 3, 4, 8, 42}\n"
     ]
    }
   ],
   "source": [
    "set_3 = set_1.union(set_2)\n",
    "print(set_1)\n",
    "print(set_3)"
   ]
  },
  {
   "cell_type": "markdown",
   "metadata": {},
   "source": [
    "#### 1.3.4: Tuples\n",
    "A tuple is a fixed-length, immutable sequence of Python objects. They are similar to lists, but can not be changed once set. \n",
    "Tuples can also be used as keys in dictionaries and as elements of sets, while lists cannot. "
   ]
  },
  {
   "cell_type": "code",
   "execution_count": 44,
   "metadata": {},
   "outputs": [
    {
     "name": "stdout",
     "output_type": "stream",
     "text": [
      "('s', 't', 'r', 'i', 'n', 'g')\n"
     ]
    }
   ],
   "source": [
    "mytuple = (1, 2, 3, 4, 5)\n",
    "\n",
    "tuples_in_tuples = (1, 2, (31, 32), 4)\n",
    "\n",
    "string_to_tuple = tuple('string')\n",
    "\n",
    "print(string_to_tuple)"
   ]
  },
  {
   "cell_type": "markdown",
   "metadata": {},
   "source": [
    "Note that you can use tuples to assign values to multiple variables in one line (Python will automatically unpack the value on the righthand side of the equal sign):\n",
    "\n",
    "For simple statements, the tuple parantheses can be omitted:"
   ]
  },
  {
   "cell_type": "code",
   "execution_count": 45,
   "metadata": {},
   "outputs": [
    {
     "name": "stdout",
     "output_type": "stream",
     "text": [
      "world\n",
      "good\n"
     ]
    }
   ],
   "source": [
    "var_1, var_2 = (\"hello\", \"world\")\n",
    "print(var_2)\n",
    "\n",
    "var_3, var_4 = \"good\", \"morning\"\n",
    "print(var_3)"
   ]
  },
  {
   "cell_type": "markdown",
   "metadata": {},
   "source": [
    "Reading the elements of a tuple works just like with lists using slicing. (e.g. ``print(mytuple[3])``)\n",
    "\n",
    "### 1.4: Comprehensions\n",
    "\n",
    "List, Dictionary and Set comprehensions are one of the most-loved Python language features as they simplify code that would otherwise being written in a ``for`` loop.\n",
    "\n",
    "They allow you to concisely form a new collection by filtering and transforming the elements of a collection, all in one line of code.\n",
    "\n",
    "They have the following syntax: \n",
    "\n",
    "``result = [expr for val in collection if condition]``\n",
    "\n",
    "\n",
    "that is equivalent to the following ``for`` loop:\n",
    "\n",
    "```\n",
    "result = []\n",
    "for val in collection:\n",
    "    if condition:\n",
    "        result.append(expr)\n",
    "```\n",
    "\n",
    "The filtering ``if`` condition can be ommited, leaving only the expression.\n",
    "\n",
    "For example, the following code that computes square numbers can be simplified using a list comprehension:"
   ]
  },
  {
   "cell_type": "code",
   "execution_count": 104,
   "metadata": {},
   "outputs": [
    {
     "name": "stdout",
     "output_type": "stream",
     "text": [
      "[0, 1, 4, 9, 16]\n",
      "[0, 1, 4, 9, 16]\n"
     ]
    }
   ],
   "source": [
    "nums = [0, 1, 2, 3, 4]\n",
    "\n",
    "squares = []\n",
    "for x in nums:\n",
    "    squares.append(x**2)\n",
    "\n",
    "squares_2 = [x**2 for x in nums]\n",
    "\n",
    "print(squares)\n",
    "print(squares_2)"
   ]
  },
  {
   "cell_type": "markdown",
   "metadata": {},
   "source": [
    "Using conditions, the code can easily be adapted to only return even numbers:"
   ]
  },
  {
   "cell_type": "code",
   "execution_count": 107,
   "metadata": {},
   "outputs": [
    {
     "name": "stdout",
     "output_type": "stream",
     "text": [
      "[0, 4, 16]\n"
     ]
    }
   ],
   "source": [
    "even_squares = [x**2 for x in nums if x % 2 == 0]\n",
    "print(even_squares)"
   ]
  },
  {
   "cell_type": "markdown",
   "metadata": {},
   "source": [
    "Similar to the shown list comprehension, sets can be generated by just changing the style of the bracket:"
   ]
  },
  {
   "cell_type": "code",
   "execution_count": 108,
   "metadata": {},
   "outputs": [
    {
     "name": "stdout",
     "output_type": "stream",
     "text": [
      "{0, 1, 4, 9, 16}\n"
     ]
    }
   ],
   "source": [
    "squares_set = {x**2 for x in nums}\n",
    "print(squares_set)"
   ]
  },
  {
   "cell_type": "markdown",
   "metadata": {},
   "source": [
    "As dictionaries contain ``key:value`` pairs, their comprehension syntax is just slightly different:"
   ]
  },
  {
   "cell_type": "code",
   "execution_count": 49,
   "metadata": {},
   "outputs": [
    {
     "name": "stdout",
     "output_type": "stream",
     "text": [
      "{0: 0, 1: 1, 2: 4, 3: 9, 4: 16}\n"
     ]
    }
   ],
   "source": [
    "num_to_square = {x: x ** 2 for x in nums}\n",
    "print(num_to_square)"
   ]
  },
  {
   "cell_type": "markdown",
   "metadata": {},
   "source": [
    "### 1.5: Functions\n",
    "Functions are declared with the ``def`` keyword and return the values after the ``return`` keyword. Optional values (here: ``z``) can be defined by adding a default value in the function header."
   ]
  },
  {
   "cell_type": "code",
   "execution_count": 50,
   "metadata": {},
   "outputs": [
    {
     "name": "stdout",
     "output_type": "stream",
     "text": [
      "0.06363636363636363\n"
     ]
    }
   ],
   "source": [
    "def my_function(x, y, z=1.5):\n",
    "    if z > 1:\n",
    "        return z * (x + y)\n",
    "    else:\n",
    "        return z / (x + y)\n",
    "\n",
    "\n",
    "print(my_function(5, 6, 0.7))"
   ]
  },
  {
   "cell_type": "markdown",
   "metadata": {},
   "source": [
    "#### 1.5.1. Type Hints / Annotations\n",
    "As mentioned in the introduction, you do not need to specify data types in Python.\n",
    "\n",
    "However, it can be very useful to tell other users of your function what kind of values your function accepts and which data types will be returned.\n",
    "\n",
    "Since Python 3.5, there is a build-in syntax for type annotations. \n",
    "The Python runtime does not enforce function and variable type annotations.\n",
    "They can be used by third party tools such as type checkers, IDEs, linters, etc."
   ]
  },
  {
   "cell_type": "code",
   "execution_count": 51,
   "metadata": {},
   "outputs": [
    {
     "name": "stdout",
     "output_type": "stream",
     "text": [
      "Hello, Bob!\n",
      "HELLO, FRED\n"
     ]
    }
   ],
   "source": [
    "def hello(name: str, loud: bool = False) -> str:\n",
    "    if loud:\n",
    "        print(\"HELLO, %s\" % name.upper())\n",
    "    else:\n",
    "        print(\"Hello, %s!\" % name)\n",
    "\n",
    "\n",
    "hello(\"Bob\")\n",
    "hello(\"Fred\", loud=True)"
   ]
  },
  {
   "cell_type": "markdown",
   "metadata": {},
   "source": [
    "In previous versions, type hints were written in comments (so-called docstrings) inside the functions. Using typing, modern IDEs can auto-generate big parts of the documentation."
   ]
  },
  {
   "cell_type": "code",
   "execution_count": 52,
   "metadata": {},
   "outputs": [],
   "source": [
    "def hello(name: str, loud: bool = False) -> str:\n",
    "    \"\"\"_summary_\n",
    "\n",
    "    Args:\n",
    "        name (str): _description_\n",
    "        loud (bool, optional): _description_. Defaults to False.\n",
    "\n",
    "    Returns:\n",
    "        str: _description_\n",
    "    \"\"\"\n",
    "    if loud:\n",
    "        print(\"HELLO, %s\" % name.upper())\n",
    "    else:\n",
    "        print(\"Hello, %s!\" % name)"
   ]
  },
  {
   "cell_type": "markdown",
   "metadata": {},
   "source": [
    "If you are unsure of what values you want to return or accept, you can use the ``Any`` type.\n",
    "\n",
    "For complex data structures, the syntax is similar to when defining collections:"
   ]
  },
  {
   "cell_type": "code",
   "execution_count": null,
   "metadata": {},
   "outputs": [],
   "source": [
    "\n",
    "mylist: list[float] = (3.4, 3, 2.3)\n",
    "\n",
    "mystruct: list[list[dict]] = [[{1: \"AA\", 3: \"AB\"}, {2: \"BA\"}], [{1: \"CA\"}]]\n"
   ]
  },
  {
   "cell_type": "markdown",
   "metadata": {},
   "source": [
    "Hint: The above code requires Python 3.10, earlier versions can import the capitalized \"``List``\" type annotator (\"``from typing import List``\") to use instead of ``list``.\n",
    "\n",
    "### 1.5: Classes\n",
    "The syntax for defining classes in Python is pretty straightforward. "
   ]
  },
  {
   "cell_type": "code",
   "execution_count": 14,
   "metadata": {},
   "outputs": [
    {
     "name": "stdout",
     "output_type": "stream",
     "text": [
      "Hello, Fred\n",
      "HELLO, FRED!\n"
     ]
    }
   ],
   "source": [
    "class Greeter:\n",
    "\n",
    "    # Constructor\n",
    "    def __init__(self, name):\n",
    "        self.name = name  # Create an instance variable\n",
    "\n",
    "    # Instance method\n",
    "    def greet(self, loud=False):\n",
    "        if loud:\n",
    "            print(\"HELLO, %s!\" % self.name.upper())\n",
    "        else:\n",
    "            print(\"Hello, %s\" % self.name)\n",
    "\n",
    "\n",
    "g = Greeter(\"Fred\")     # Construct an instance of the Greeter class\n",
    "g.greet()               # Call an instance method; prints \"Hello, Fred\"\n",
    "g.greet(loud=True)      # Call an instance method; prints \"HELLO, FRED!\"\n"
   ]
  },
  {
   "cell_type": "markdown",
   "metadata": {},
   "source": [
    "Sub-classes can be defined by adding the name of the parent-class in parantheses after the class name. \n",
    "\n",
    "Parent functions can be accessed by calling ``super()``, reducing redundancy in code."
   ]
  },
  {
   "cell_type": "code",
   "execution_count": 16,
   "metadata": {},
   "outputs": [
    {
     "name": "stdout",
     "output_type": "stream",
     "text": [
      "salary: 8000\n",
      "name: John\n",
      "age: 20\n"
     ]
    }
   ],
   "source": [
    "# superclass\n",
    "class Person:\n",
    "    def __init__(self, per_name, per_age):\n",
    "        self.name = per_name\n",
    "        self.age = per_age\n",
    "\n",
    "    def display1(self):\n",
    "        print(\"name:\", self.name)\n",
    "        print(\"age:\", self.age)\n",
    "\n",
    "\n",
    "# subclass\n",
    "class Employee(Person):\n",
    "    def __init__(self, emp_name, emp_age, emp_salary):\n",
    "        self.salary = emp_salary\n",
    "        super().__init__(emp_name, emp_age)\n",
    "\n",
    "    def display2(self):\n",
    "        print(\"salary:\", self.salary)\n",
    "        super().display1()\n",
    "\n",
    "\n",
    "emp = Employee(\"John\", 20, 8000)  # creating object of subclass\n",
    "\n",
    "emp.display2()\n"
   ]
  },
  {
   "cell_type": "markdown",
   "metadata": {},
   "source": [
    "Classes that are primarily used as data structures can be annotated with ``@dataclass`` (which is a built-in package since Python 3.7).\n",
    "\n",
    "This will automatically generate a ``__init__`` function that sets class variables (``self.x``) based on parameters (``x``)."
   ]
  },
  {
   "cell_type": "code",
   "execution_count": 56,
   "metadata": {},
   "outputs": [],
   "source": [
    "from dataclasses import dataclass\n",
    "\n",
    "@dataclass\n",
    "class InventoryItem:\n",
    "    \"\"\"Class for keeping track of an item in inventory.\"\"\"\n",
    "    name: str\n",
    "    unit_price: float\n",
    "    quantity_on_hand: int = 0\n",
    "\n",
    "    def total_cost(self) -> float:\n",
    "        return self.unit_price * self.quantity_on_hand"
   ]
  },
  {
   "cell_type": "markdown",
   "metadata": {},
   "source": [
    "In the above example, among other things, the following code will be added internally:\n",
    "\n",
    "```\n",
    "def __init__(self, name: str, unit_price: float, quantity_on_hand: int = 0):\n",
    "    self.name = name\n",
    "    self.unit_price = unit_price\n",
    "    self.quantity_on_hand = quantity_on_hand\n",
    "```\n",
    "\n",
    "## 2: Python for scientific computing\n",
    "In this section, we will cover the most popular Python libraries used for scientific computing.\n",
    "\n",
    "They provide implementations of mathematical functions, can be used to define algorithms in less lines of codes than when using traditional Python functions and are often times more efficient, as some use highly optimized C-based backend functions.\n",
    "\n",
    "### 2.1: NumPy\n",
    "[NumPy](http://www.numpy.org/), short for Numerical Python, is the most important foundational package for numerical computing in python, used by most of the other scientific packages.\n",
    "\n",
    "It provides a high-performance multidimensional ``array`` object and tools for working with these arrays. \n",
    "\n",
    "#### 2.1.1: NumPy Arrays\n",
    "The key feature of NumPy is its array object (sometimes called ``ndarray``), which is a fast and flexible data container. \n",
    "\n",
    "At first, they look very similar to lists:"
   ]
  },
  {
   "cell_type": "code",
   "execution_count": 15,
   "metadata": {},
   "outputs": [
    {
     "name": "stdout",
     "output_type": "stream",
     "text": [
      "[1 2 3 4]\n"
     ]
    }
   ],
   "source": [
    "import numpy as np\n",
    "\n",
    "my_numbers = np.array([1, 2, 3, 4])\n",
    "\n",
    "print(my_numbers)"
   ]
  },
  {
   "cell_type": "markdown",
   "metadata": {},
   "source": [
    "However, numpy arrays enable you to perform mathematical operations on the whole array.\n",
    "\n",
    "By using similar syntax to the built-in operations for scalar elements, calculations can be performed faster and in less lines of codes (compared to using e.g. ``for``-loops or list comprehensions):"
   ]
  },
  {
   "cell_type": "code",
   "execution_count": 23,
   "metadata": {},
   "outputs": [
    {
     "name": "stdout",
     "output_type": "stream",
     "text": [
      "[2 4 6 8]\n"
     ]
    }
   ],
   "source": [
    "print(my_numbers * 2)"
   ]
  },
  {
   "cell_type": "markdown",
   "metadata": {},
   "source": [
    "A numpy array is not limited to one dimension and can rather be seen as a grid of values, all of the same type and indexed by a tuple of integers or by traversing to the \"list inside the list\"."
   ]
  },
  {
   "cell_type": "code",
   "execution_count": 24,
   "metadata": {},
   "outputs": [
    {
     "name": "stdout",
     "output_type": "stream",
     "text": [
      "[[ 1  2  3  4]\n",
      " [ 5  6  7  8]\n",
      " [ 9 10 11 12]]\n",
      "8\n",
      "8\n"
     ]
    }
   ],
   "source": [
    "my_2d_array = np.array([[1, 2, 3, 4], [5, 6, 7, 8], [9, 10, 11, 12]])\n",
    "print(my_2d_array)\n",
    "\n",
    "print(my_2d_array[1,3])\n",
    "print(my_2d_array[1][3])"
   ]
  },
  {
   "cell_type": "markdown",
   "metadata": {},
   "source": [
    "All indices support slicing, so selecting a certain sub-area is easy."
   ]
  },
  {
   "cell_type": "code",
   "execution_count": 25,
   "metadata": {},
   "outputs": [
    {
     "name": "stdout",
     "output_type": "stream",
     "text": [
      "[[ 5  6  7]\n",
      " [ 9 10 11]]\n"
     ]
    }
   ],
   "source": [
    "print(my_2d_array[1:3, :3])"
   ]
  },
  {
   "cell_type": "markdown",
   "metadata": {},
   "source": [
    "Another helpful method to select specific elements of an numpy array is using a boolean list inside the square brackets.\n",
    "\n",
    "These boolean lists can be created by running conditions on numpy arrays."
   ]
  },
  {
   "cell_type": "code",
   "execution_count": 14,
   "metadata": {},
   "outputs": [
    {
     "ename": "NameError",
     "evalue": "name 'np' is not defined",
     "output_type": "error",
     "traceback": [
      "\u001b[31m---------------------------------------------------------------------------\u001b[39m",
      "\u001b[31mNameError\u001b[39m                                 Traceback (most recent call last)",
      "\u001b[36mCell\u001b[39m\u001b[36m \u001b[39m\u001b[32mIn[14]\u001b[39m\u001b[32m, line 1\u001b[39m\n\u001b[32m----> \u001b[39m\u001b[32m1\u001b[39m arr_1 = \u001b[43mnp\u001b[49m.array([\u001b[32m10\u001b[39m, \u001b[32m20\u001b[39m, \u001b[32m30\u001b[39m, \u001b[32m40\u001b[39m])\n\u001b[32m      2\u001b[39m condition_arr = (arr_1 > \u001b[32m25\u001b[39m)\n\u001b[32m      4\u001b[39m \u001b[38;5;28mprint\u001b[39m(condition_arr)\n",
      "\u001b[31mNameError\u001b[39m: name 'np' is not defined"
     ]
    }
   ],
   "source": [
    "arr_1 = np.array([10, 20, 30, 40])\n",
    "condition_arr = (arr_1 > 25)\n",
    "\n",
    "print(condition_arr)\n",
    "print(arr_1[condition_arr])"
   ]
  },
  {
   "cell_type": "markdown",
   "metadata": {},
   "source": [
    "Interesting characteristics like the number of dimensions (rank), the shape of the array (size of the array along each dimension) or the data type of the arrays values can easily be accessed:"
   ]
  },
  {
   "cell_type": "code",
   "execution_count": 16,
   "metadata": {},
   "outputs": [
    {
     "ename": "NameError",
     "evalue": "name 'my_2d_array' is not defined",
     "output_type": "error",
     "traceback": [
      "\u001b[31m---------------------------------------------------------------------------\u001b[39m",
      "\u001b[31mNameError\u001b[39m                                 Traceback (most recent call last)",
      "\u001b[36mCell\u001b[39m\u001b[36m \u001b[39m\u001b[32mIn[16]\u001b[39m\u001b[32m, line 1\u001b[39m\n\u001b[32m----> \u001b[39m\u001b[32m1\u001b[39m \u001b[38;5;28mprint\u001b[39m(\u001b[43mmy_2d_array\u001b[49m, \u001b[33m\"\u001b[39m\u001b[38;5;130;01m\\n\u001b[39;00m\u001b[33m\"\u001b[39m)\n\u001b[32m      3\u001b[39m \u001b[38;5;28mprint\u001b[39m(my_2d_array.ndim)\n\u001b[32m      4\u001b[39m \u001b[38;5;28mprint\u001b[39m(my_2d_array.shape)\n",
      "\u001b[31mNameError\u001b[39m: name 'my_2d_array' is not defined"
     ]
    }
   ],
   "source": [
    "print(my_2d_array, \"\\n\")\n",
    "\n",
    "print(my_2d_array.ndim)\n",
    "print(my_2d_array.shape)\n",
    "print(my_2d_array.dtype)"
   ]
  },
  {
   "cell_type": "markdown",
   "metadata": {},
   "source": [
    "As you can see using ``dtype``, the values of a numpy arrays will always be of one homogenous datatype. \n",
    "Note that numpy datatypes are different from the built-in Python datatypes. \n",
    "It is however still possible to use numpy datatypes in type annotations, as described [here](https://numpy.org/devdocs/reference/typing.html).\n",
    "\n",
    "Shape values can also be passed as parameters, e.g. to generate example values positioned in an array of a certain shape.\n",
    "The datatype to return can be defined using a parameter in most generative functions."
   ]
  },
  {
   "cell_type": "code",
   "execution_count": 17,
   "metadata": {},
   "outputs": [
    {
     "name": "stdout",
     "output_type": "stream",
     "text": [
      "[[ 1.76405235  0.40015721  0.97873798  2.2408932 ]\n",
      " [ 1.86755799 -0.97727788  0.95008842 -0.15135721]\n",
      " [-0.10321885  0.4105985   0.14404357  1.45427351]]\n",
      "[[0 0 0 0 0 0 0 0 0 0]\n",
      " [0 0 0 0 0 0 0 0 0 0]]\n",
      "[ 5  6  7  8  9 10]\n"
     ]
    }
   ],
   "source": [
    "np.random.seed(0)  # make random numbers predictable to compare results between students\n",
    "\n",
    "random_array = np.random.randn(3, 4)\n",
    "\n",
    "zero_array = np.zeros((2, 10), dtype=np.int32)\n",
    "increasing_array = np.arange(5, 11)\n",
    "\n",
    "print(random_array)\n",
    "print(zero_array)\n",
    "print(increasing_array)\n"
   ]
  },
  {
   "cell_type": "markdown",
   "metadata": {},
   "source": [
    "Arrays can be reshaped and transposed using a variety of methods."
   ]
  },
  {
   "cell_type": "code",
   "execution_count": 11,
   "metadata": {},
   "outputs": [
    {
     "ename": "NameError",
     "evalue": "name 'np' is not defined",
     "output_type": "error",
     "traceback": [
      "\u001b[31m---------------------------------------------------------------------------\u001b[39m",
      "\u001b[31mNameError\u001b[39m                                 Traceback (most recent call last)",
      "\u001b[36mCell\u001b[39m\u001b[36m \u001b[39m\u001b[32mIn[11]\u001b[39m\u001b[32m, line 1\u001b[39m\n\u001b[32m----> \u001b[39m\u001b[32m1\u001b[39m arr_flat = \u001b[43mnp\u001b[49m.arange(\u001b[32m15\u001b[39m)\n\u001b[32m      2\u001b[39m arr_rect = arr_flat.reshape(\u001b[32m3\u001b[39m, \u001b[32m5\u001b[39m)\n\u001b[32m      4\u001b[39m \u001b[38;5;28mprint\u001b[39m(\u001b[33m\"\u001b[39m\u001b[33mFlat\u001b[39m\u001b[38;5;130;01m\\n\u001b[39;00m\u001b[33m\"\u001b[39m, arr_flat)\n",
      "\u001b[31mNameError\u001b[39m: name 'np' is not defined"
     ]
    }
   ],
   "source": [
    "arr_flat = np.arange(15)\n",
    "arr_rect = arr_flat.reshape(3, 5)\n",
    "\n",
    "print(\"Flat\\n\", arr_flat)\n",
    "print(\"Reshaped\\n\", arr_rect)\n",
    "print(\"Transposed\\n\", arr_rect.T)\n"
   ]
  },
  {
   "cell_type": "markdown",
   "metadata": {},
   "source": [
    "#### 2.1.2: Universal Functions\n",
    "Universal functions (``ufunc``s) perform element-wise operations on data in numpy arrays.\n",
    "\n",
    "You can think of them as fast vectorized wrappers for simple functions that take one or more scalar values and produce one or more scalar results.\n",
    "\n",
    "Unary examples are:\n",
    "- ``np.sqrt(arr)`` to compute $\\sqrt{x}$ for each $x \\in arr$\n",
    "- ``np.exp(arr)`` to compute $e^x$ for each $x \\in arr$ \n",
    "- ``np.square(arr)`` to compute $x^2$ for each $x \\in arr$ \n",
    "\n",
    "Binary examples are:\n",
    "- ``np.add(arr1, arr2)`` equivalent to ``arr1 + arr2 ``\n",
    "- ``np.multiply(arr1, arr2)`` equivalent to ``arr1 * arr2 ``\n",
    "- ``np.dot(arr1, arr2)`` for matrix multiplication (dot product)"
   ]
  },
  {
   "cell_type": "code",
   "execution_count": 10,
   "metadata": {},
   "outputs": [
    {
     "ename": "NameError",
     "evalue": "name 'np' is not defined",
     "output_type": "error",
     "traceback": [
      "\u001b[31m---------------------------------------------------------------------------\u001b[39m",
      "\u001b[31mNameError\u001b[39m                                 Traceback (most recent call last)",
      "\u001b[36mCell\u001b[39m\u001b[36m \u001b[39m\u001b[32mIn[10]\u001b[39m\u001b[32m, line 1\u001b[39m\n\u001b[32m----> \u001b[39m\u001b[32m1\u001b[39m arr1 = \u001b[43mnp\u001b[49m.arange(\u001b[32m12\u001b[39m)\n\u001b[32m      2\u001b[39m arr2 = np.arange(\u001b[32m12\u001b[39m)[::-\u001b[32m1\u001b[39m]  \u001b[38;5;66;03m# reverse the order via slicing\u001b[39;00m\n\u001b[32m      4\u001b[39m \u001b[38;5;28mprint\u001b[39m(\u001b[33m\"\u001b[39m\u001b[33mArray 1:  \u001b[39m\u001b[33m\"\u001b[39m, arr1)\n",
      "\u001b[31mNameError\u001b[39m: name 'np' is not defined"
     ]
    }
   ],
   "source": [
    "arr1 = np.arange(12)\n",
    "arr2 = np.arange(12)[::-1]  # reverse the order via slicing\n",
    "\n",
    "print(\"Array 1:  \", arr1)\n",
    "print(\"Array 2:  \", arr2)\n",
    "print(\"Multiply: \", arr1 * arr2)\n",
    "print(\"Dot:      \", np.dot(arr1, arr2))\n",
    "\n",
    "print(\"√ Square Root of Array 1:\\n\", np.sqrt(arr1))"
   ]
  },
  {
   "cell_type": "markdown",
   "metadata": {},
   "source": [
    "\n",
    "To compute statistics about an entire array or about the data along an axis (via optional ``axis`` argument), functions are accessible as methods of the array class and as top-level NumPy function:\n",
    "\n",
    "- ``np.sum(arr)`` or ``arr.sum()`` to compute the sum $\\sum(\\text{arr})$\n",
    "- ``np.mean(arr)`` or ``arr.mean()``to compute the mean $\\frac{\\sum(\\text{arr})}{|\\text{arr}|}$\n",
    "- ``np.std(arr)`` or ``arr.std()``to compute the standard deviation, equivalent to ``np.sqrt(np.var(arr))``\n"
   ]
  },
  {
   "cell_type": "code",
   "execution_count": 9,
   "metadata": {},
   "outputs": [
    {
     "ename": "NameError",
     "evalue": "name 'np' is not defined",
     "output_type": "error",
     "traceback": [
      "\u001b[31m---------------------------------------------------------------------------\u001b[39m",
      "\u001b[31mNameError\u001b[39m                                 Traceback (most recent call last)",
      "\u001b[36mCell\u001b[39m\u001b[36m \u001b[39m\u001b[32mIn[9]\u001b[39m\u001b[32m, line 1\u001b[39m\n\u001b[32m----> \u001b[39m\u001b[32m1\u001b[39m arr = \u001b[43mnp\u001b[49m.arange(\u001b[32m12\u001b[39m).reshape(\u001b[32m4\u001b[39m, \u001b[32m3\u001b[39m)\n\u001b[32m      2\u001b[39m \u001b[38;5;28mprint\u001b[39m(arr)\n\u001b[32m      4\u001b[39m \u001b[38;5;28mprint\u001b[39m(\u001b[33m\"\u001b[39m\u001b[33mOverall mean:     \u001b[39m\u001b[33m\"\u001b[39m, arr.mean())\n",
      "\u001b[31mNameError\u001b[39m: name 'np' is not defined"
     ]
    }
   ],
   "source": [
    "arr = np.arange(12).reshape(4, 3)\n",
    "print(arr)\n",
    "\n",
    "print(\"Overall mean:     \", arr.mean())\n",
    "print(\"Means per column: \", arr.mean(axis=0))\n",
    "print(\"Means per row:    \", arr.mean(axis=1))"
   ]
  },
  {
   "cell_type": "markdown",
   "metadata": {},
   "source": [
    "#### 2.1.3: ✏️ NumPy Excercises\n",
    "1. Create a numpy array of shape $(3,3)$ with values increasing by 1, starting at $n$ (example: ``2 -> [[ 2  3  4] [ 5  6  7] [ 8  9 10]]``)\n"
   ]
  },
  {
   "cell_type": "code",
   "execution_count": 38,
   "metadata": {},
   "outputs": [
    {
     "name": "stdout",
     "output_type": "stream",
     "text": [
      "[[ 2  3  4]\n",
      " [ 5  6  7]\n",
      " [ 8  9 10]]\n"
     ]
    }
   ],
   "source": [
    "n = 2\n",
    "arr = np.arange(n, n+9).reshape(3,3)\n",
    "\n",
    "print(arr)\n",
    "# TODO: Implement"
   ]
  },
  {
   "cell_type": "markdown",
   "metadata": {},
   "source": [
    "2. Adapt the code from (1.) to work with any shape $(d,d)$"
   ]
  },
  {
   "cell_type": "code",
   "execution_count": 8,
   "metadata": {},
   "outputs": [
    {
     "ename": "NameError",
     "evalue": "name 'np' is not defined",
     "output_type": "error",
     "traceback": [
      "\u001b[31m---------------------------------------------------------------------------\u001b[39m",
      "\u001b[31mNameError\u001b[39m                                 Traceback (most recent call last)",
      "\u001b[36mCell\u001b[39m\u001b[36m \u001b[39m\u001b[32mIn[8]\u001b[39m\u001b[32m, line 3\u001b[39m\n\u001b[32m      1\u001b[39m n = \u001b[32m5\u001b[39m\n\u001b[32m      2\u001b[39m d = \u001b[32m4\u001b[39m\n\u001b[32m----> \u001b[39m\u001b[32m3\u001b[39m arr_a = \u001b[43mnp\u001b[49m.arange(n,n+ d*d).reshape(d,d)\n\u001b[32m      4\u001b[39m \u001b[38;5;66;03m# TODO: Implement\u001b[39;00m\n\u001b[32m      5\u001b[39m \u001b[38;5;28mprint\u001b[39m(arr)\n",
      "\u001b[31mNameError\u001b[39m: name 'np' is not defined"
     ]
    }
   ],
   "source": [
    "n = 5\n",
    "d = 4\n",
    "arr_a = np.arange(n,n+ d*d).reshape(d,d)\n",
    "# TODO: Implement\n",
    "print(arr)"
   ]
  },
  {
   "cell_type": "markdown",
   "metadata": {},
   "source": [
    "3. Adapt the code from (2.) to create the same array, but numbers are in reversed order (decreasing)"
   ]
  },
  {
   "cell_type": "code",
   "execution_count": 7,
   "metadata": {},
   "outputs": [
    {
     "ename": "NameError",
     "evalue": "name 'np' is not defined",
     "output_type": "error",
     "traceback": [
      "\u001b[31m---------------------------------------------------------------------------\u001b[39m",
      "\u001b[31mNameError\u001b[39m                                 Traceback (most recent call last)",
      "\u001b[36mCell\u001b[39m\u001b[36m \u001b[39m\u001b[32mIn[7]\u001b[39m\u001b[32m, line 3\u001b[39m\n\u001b[32m      1\u001b[39m n = \u001b[32m5\u001b[39m\n\u001b[32m      2\u001b[39m d = \u001b[32m4\u001b[39m\n\u001b[32m----> \u001b[39m\u001b[32m3\u001b[39m arr_b = \u001b[43mnp\u001b[49m.arange(n,n+ d*d)[::-\u001b[32m1\u001b[39m].reshape(d,d)\n\u001b[32m      4\u001b[39m \u001b[38;5;66;03m# TODO: Implement\u001b[39;00m\n\u001b[32m      5\u001b[39m \u001b[38;5;28mprint\u001b[39m(arr)\n",
      "\u001b[31mNameError\u001b[39m: name 'np' is not defined"
     ]
    }
   ],
   "source": [
    "n = 5\n",
    "d = 4\n",
    "arr_b = np.arange(n,n+ d*d)[::-1].reshape(d,d)\n",
    "# TODO: Implement\n",
    "print(arr)"
   ]
  },
  {
   "cell_type": "markdown",
   "metadata": {},
   "source": [
    "4. Calculate the dot product of the two matrices calculated by (2.) and (3.)"
   ]
  },
  {
   "cell_type": "code",
   "execution_count": 5,
   "metadata": {},
   "outputs": [
    {
     "ename": "NameError",
     "evalue": "name 'np' is not defined",
     "output_type": "error",
     "traceback": [
      "\u001b[31m---------------------------------------------------------------------------\u001b[39m",
      "\u001b[31mNameError\u001b[39m                                 Traceback (most recent call last)",
      "\u001b[36mCell\u001b[39m\u001b[36m \u001b[39m\u001b[32mIn[5]\u001b[39m\u001b[32m, line 3\u001b[39m\n\u001b[32m      1\u001b[39m n = \u001b[32m5\u001b[39m\n\u001b[32m      2\u001b[39m d = \u001b[32m4\u001b[39m\n\u001b[32m----> \u001b[39m\u001b[32m3\u001b[39m arr_dot = \u001b[43mnp\u001b[49m.dot(arr_a,arr_b)\n\u001b[32m      6\u001b[39m \u001b[38;5;28mprint\u001b[39m(arr_dot)\n\u001b[32m      7\u001b[39m \u001b[38;5;66;03m# TODO: Implement\u001b[39;00m\n",
      "\u001b[31mNameError\u001b[39m: name 'np' is not defined"
     ]
    }
   ],
   "source": [
    "n = 5\n",
    "d = 4\n",
    "arr_dot = np.dot(arr_a,arr_b)\n",
    "\n",
    "\n",
    "print(arr_dot)\n",
    "# TODO: Implement"
   ]
  },
  {
   "cell_type": "markdown",
   "metadata": {},
   "source": [
    "5. Calculate the average price of all previously sold bananas in the given data"
   ]
  },
  {
   "cell_type": "code",
   "execution_count": 18,
   "metadata": {},
   "outputs": [
    {
     "name": "stdout",
     "output_type": "stream",
     "text": [
      "1.005\n"
     ]
    }
   ],
   "source": [
    "grocery_stock = {\n",
    "    \"items\": [\"apples\", \"bananas\", \"lemons\"],\n",
    "    \"remaining_items\": [14, 7, 11],\n",
    "    \"sold_items\": [4, 4, 4],\n",
    "    \"current_prices\": [0.82, 0.94, 0.56],\n",
    "    \"sales_history\": [\n",
    "        [0.81, 0.79, 0.69, 0.73],\n",
    "        [0.99, 1.20, 0.90, 0.93],\n",
    "        [0.50, 0.61, 0.52, 0.68],\n",
    "    ],\n",
    "}\n",
    "avg = np.average(grocery_stock[\"sales_history\"][1])\n",
    "print(avg)\n",
    "#1.005\n",
    "# TODO: Implement"
   ]
  },
  {
   "cell_type": "markdown",
   "metadata": {},
   "source": [
    "6. Adapt (5.) to calculate the array of average selling prices for each product."
   ]
  },
  {
   "cell_type": "code",
   "execution_count": 19,
   "metadata": {},
   "outputs": [
    {
     "name": "stdout",
     "output_type": "stream",
     "text": [
      "[0.755, 1.005, 0.5775]\n"
     ]
    }
   ],
   "source": [
    "# TODO: Implement\n",
    "\n",
    "#[0.755  1.005  0.5775]\n",
    "\n",
    "res = [float(np.average(num))  for x in grocery_stock[\"sales_history\"] for num in [x]]\n",
    "\n",
    "print(res)"
   ]
  },
  {
   "cell_type": "markdown",
   "metadata": {},
   "source": [
    "7. Print the names of all products of which the current price is lower than the average price (good buying opportunities)"
   ]
  },
  {
   "cell_type": "code",
   "execution_count": 20,
   "metadata": {},
   "outputs": [
    {
     "name": "stdout",
     "output_type": "stream",
     "text": [
      "['bananas', 'lemons']\n"
     ]
    }
   ],
   "source": [
    "# TODO: Implement\n",
    "\n",
    "#['bananas' 'lemons']\n",
    "\n",
    "res = [float(np.average(num))  for x in grocery_stock[\"sales_history\"] for num in [x]]\n",
    "\n",
    "#lower = [n for n in res for elem in grocery_stock[\"current_prices\"] if elem<n ]\n",
    "lower = []\n",
    "for index,item in enumerate(grocery_stock[\"current_prices\"]):\n",
    "    if item < res[index]:\n",
    "        lower.append(grocery_stock[\"items\"][index])\n",
    "    \n",
    "print(lower) \n",
    "\n"
   ]
  },
  {
   "cell_type": "markdown",
   "metadata": {},
   "source": [
    "### 2.2: Matplotlib\n",
    "Matplotlib is a plotting library for data visualization. \n",
    "It contains the popular **pyplot** interface, which provides a plotting system similar to that of MATLAB.\n",
    "\n",
    "It can easily be imported as shown in the next code cell. The line with the ``%``-sign is only used in jupyter notebooks and defines wether the output should be static images (\"inline\") or interactive and resizable (\"widget\").\n",
    "\n",
    "A simple plot of a sample list can be created in very few lines of code:"
   ]
  },
  {
   "cell_type": "code",
   "execution_count": 26,
   "metadata": {},
   "outputs": [
    {
     "data": {
      "image/png": "[encoded data removed]",
      "text/plain": [
       "<Figure size 640x480 with 1 Axes>"
      ]
     },
     "metadata": {},
     "output_type": "display_data"
    }
   ],
   "source": [
    "import matplotlib.pyplot as plt\n",
    "%matplotlib inline\n",
    "\n",
    "data_y = np.arange(5, 10)\n",
    "plt.ylabel('some numbers')\n",
    "plt.plot(data_y)\n",
    "plt.show()"
   ]
  },
  {
   "cell_type": "markdown",
   "metadata": {},
   "source": [
    "The most important part of this library is the ``plt.plot()`` function. It is very versatile in terms of parameters, and you should definitely take a look at the official documentation for a [reference on plt.plot()](https://matplotlib.org/stable/gallery/index.html) and a [gallery of examples of more advanced plots](https://matplotlib.org/stable/gallery/index.html).\n",
    "\n"
   ]
  },
  {
   "cell_type": "code",
   "execution_count": 28,
   "metadata": {},
   "outputs": [
    {
     "data": {
      "image/png": "[encoded data removed]",
      "text/plain": [
       "<Figure size 640x480 with 1 Axes>"
      ]
     },
     "metadata": {},
     "output_type": "display_data"
    }
   ],
   "source": [
    "x = np.arange(0, 3 * np.pi, 0.1)\n",
    "y:np.ndarray = np.sin(x)\n",
    "\n",
    "plt.plot(x, y)\n",
    "plt.show()"
   ]
  },
  {
   "cell_type": "markdown",
   "metadata": {},
   "source": [
    "Multiple lines, a title, a legend and axis labels can be added with simple commands:"
   ]
  },
  {
   "cell_type": "code",
   "execution_count": 29,
   "metadata": {},
   "outputs": [
    {
     "data": {
      "image/png": "[encoded data removed]",
      "text/plain": [
       "<Figure size 640x480 with 1 Axes>"
      ]
     },
     "metadata": {},
     "output_type": "display_data"
    }
   ],
   "source": [
    "y_sin = np.sin(x)\n",
    "y_cos = np.cos(x)\n",
    "\n",
    "plt.plot(x, y_sin)\n",
    "plt.plot(x, y_cos)\n",
    "plt.xlabel(\"x axis label\")\n",
    "plt.ylabel(\"y axis label\")\n",
    "plt.title(\"Sine and Cosine\")\n",
    "plt.legend([\"Sine\", \"Cosine\"])\n",
    "plt.show()"
   ]
  },
  {
   "cell_type": "markdown",
   "metadata": {},
   "source": [
    "It is possible to include multiple plots in the same figure by using the subplot functionality. Here is an example:"
   ]
  },
  {
   "cell_type": "code",
   "execution_count": 37,
   "metadata": {},
   "outputs": [
    {
     "data": {
      "image/png": "[encoded data removed]",
      "text/plain": [
       "<Figure size 640x480 with 2 Axes>"
      ]
     },
     "metadata": {},
     "output_type": "display_data"
    }
   ],
   "source": [
    "# Set up a subplot grid with height=2, width=1, and set the first subplot as active.\n",
    "plt.subplot(2, 1, 1)\n",
    "\n",
    "# Make the first subplot\n",
    "plt.plot(x, y_sin)\n",
    "plt.title(\"Sine\")\n",
    "\n",
    "# Set the second subplot as active\n",
    "plt.subplot(2, 1, 2)\n",
    "\n",
    "# Make the second plot.\n",
    "plt.plot(x, y_cos)\n",
    "plt.title(\"Cosine\")\n",
    "\n",
    "# Show the figure.\n",
    "plt.show()"
   ]
  },
  {
   "cell_type": "markdown",
   "metadata": {},
   "source": [
    "For more advanced plots, you can use referencable ``figure`` and ``axis`` objects:"
   ]
  },
  {
   "cell_type": "code",
   "execution_count": 77,
   "metadata": {},
   "outputs": [
    {
     "data": {
      "image/png": "[encoded data removed]",
      "text/plain": [
       "<Figure size 1700x1300 with 9 Axes>"
      ]
     },
     "metadata": {},
     "output_type": "display_data"
    }
   ],
   "source": [
    "fig = plt.figure(figsize=(17, 13))\n",
    "\n",
    "grid_x, grid_y = 3, 3  # size\n",
    "ax = fig.subplots(grid_y, grid_x)\n",
    "\n",
    "for x in range(grid_x):\n",
    "    for y in range(grid_y):\n",
    "        ax[y][x].set_xlim(5, 8)\n",
    "        ax[y][x].set_ylim(-2, 2)\n",
    "        x_vals = np.arange(0, 3 * np.pi, 0.1)\n",
    "        fun = (y + 0.5) * x_vals + 2 * x\n",
    "        fs = f\"{y + 0.5}x + {2 * x}\"\n",
    "        ax[y][x].plot(x_vals, np.sin(fun))\n",
    "        ax[y][x].plot(x_vals, np.cos(fun))\n",
    "        ax[y][x].legend(labels=[f\"sin({fs})\", f\"cos({fs})\"], loc=\"upper right\")\n",
    "        ax[y][x].title.set_text(f\"inner term: {fs}\")\n",
    "\n",
    "plt.show()"
   ]
  },
  {
   "cell_type": "markdown",
   "metadata": {},
   "source": [
    "Any plot can be saved to your local disk as ``.png``, ``.pdf`` or ``.svg`` file using a simple command:  \n",
    "````python\n",
    "plt.savefig(\"visualization.png\", dpi=300)\n",
    "````\n",
    "To keep our working directory clean, this code is not getting executed at this point.\n",
    "\n",
    "### 2.3: Pandas\n",
    "The Pandas library is often used for tabular and heterogenous data. It contains data structures and data manipulation tools designed to make data cleaning and analysis fast and easy. \n",
    "It is well integrated into the scientific python ecosystem and adopts significant parts of NumPy's idiomatic style of array-based computing, especially array-based functions and a preference for data processing without ``for``-loops.\n",
    "\n",
    "Pandas is built around two main data structures called **Series** and **DataFrame**. Series are similar to dictionaries (key value pairs, but ordered) whereas DataFrames can be seen as a labeled matrix (table) of heterogenous data (list of lists of different data types).\n",
    "\n",
    "#### 2.3.1: Pandas Series\n",
    "A Series is a one-dimensional array-like object containing a sequence of values and an associated array of data labels, called its index.\n",
    "The simplest Series is formed from only an array of data:"
   ]
  },
  {
   "cell_type": "code",
   "execution_count": 41,
   "metadata": {},
   "outputs": [
    {
     "name": "stdout",
     "output_type": "stream",
     "text": [
      "0    2\n",
      "1    5\n",
      "2    7\n",
      "3    9\n",
      "dtype: int64\n"
     ]
    }
   ],
   "source": [
    "import pandas as pd\n",
    "\n",
    "obj = pd.Series([2, 5, 7, 9])\n",
    "print(obj)"
   ]
  },
  {
   "cell_type": "markdown",
   "metadata": {},
   "source": [
    "Often it will be desireable to create a Series with an index identifying each data point with a label.\n",
    "\n",
    "It will now be possible to use this index when selecting values."
   ]
  },
  {
   "cell_type": "code",
   "execution_count": 78,
   "metadata": {},
   "outputs": [
    {
     "name": "stdout",
     "output_type": "stream",
     "text": [
      "z    2\n",
      "w    5\n",
      "x    7\n",
      "a    9\n",
      "dtype: int64\n",
      "9\n"
     ]
    }
   ],
   "source": [
    "obj2 = pd.Series([2, 5, 7, 9], index=[\"z\", \"w\", \"x\", \"a\"])\n",
    "print(obj2)\n",
    "\n",
    "print(obj2['a'])"
   ]
  },
  {
   "cell_type": "markdown",
   "metadata": {},
   "source": [
    "The index will be preserved when using NumPy functions or NumPy-like operations, such as filtering with a boolean array, scalar multiplication, or applying mathematical functions.\n",
    "\n",
    "Series can also be generated from dictionaries:"
   ]
  },
  {
   "cell_type": "code",
   "execution_count": 45,
   "metadata": {},
   "outputs": [
    {
     "name": "stdout",
     "output_type": "stream",
     "text": [
      "z       7.389056\n",
      "w     148.413159\n",
      "x    1096.633158\n",
      "a    8103.083928\n",
      "dtype: float64\n"
     ]
    }
   ],
   "source": [
    "obj3 = pd.Series({\"z\": 2, \"w\": 5, \"x\": 7, \"a\": 9})\n",
    "\n",
    "print(np.exp(obj3))"
   ]
  },
  {
   "cell_type": "markdown",
   "metadata": {},
   "source": [
    "#### 2.3.2: Pandas DataFrame\n",
    "A DataFrame represents a rectangluar table of data and contains an ordered collection of columns, each of which can be a different value type (numeric, string, boolean, etc.).\n",
    "\n",
    "The DataFrame has both a row and a column index.\n",
    "\n",
    "It can be thought of as a dict of Series which all share the same index. \n",
    "\n",
    "There are many ways to construct a DataFrame, though one of the most common is from a dict of equal-length lists or NumPy arrays:"
   ]
  },
  {
   "cell_type": "code",
   "execution_count": 53,
   "metadata": {},
   "outputs": [
    {
     "name": "stdout",
     "output_type": "stream",
     "text": [
      "    state  year  population\n",
      "0    Ohio  2000         1.5\n",
      "1    Ohio  2001         1.7\n",
      "2    Ohio  2002         3.6\n",
      "3  Nevada  2001         2.4\n",
      "4  Nevada  2002         2.9\n",
      "5  Nevada  2003         3.2\n"
     ]
    }
   ],
   "source": [
    "data = {\n",
    "    \"state\": [\"Ohio\", \"Ohio\", \"Ohio\", \"Nevada\", \"Nevada\", \"Nevada\"],\n",
    "    \"year\": [2000, 2001, 2002, 2001, 2002, 2003],\n",
    "    \"population\": [1.5, 1.7, 3.6, 2.4, 2.9, 3.2],\n",
    "}\n",
    "frame = pd.DataFrame(data)\n",
    "print(frame)"
   ]
  },
  {
   "cell_type": "markdown",
   "metadata": {},
   "source": [
    "If you specify a sequence of columns, the DataFrame's columns will be arranged in that order.\n",
    "\n",
    "A column in a DataFrame can be retrieved (as a Series) either by using dict-like notation or by attribute:"
   ]
  },
  {
   "cell_type": "code",
   "execution_count": 54,
   "metadata": {},
   "outputs": [
    {
     "name": "stdout",
     "output_type": "stream",
     "text": [
      "   year   state  population\n",
      "0  2000    Ohio         1.5\n",
      "1  2001    Ohio         1.7\n",
      "2  2002    Ohio         3.6\n",
      "3  2001  Nevada         2.4\n",
      "4  2002  Nevada         2.9\n",
      "5  2003  Nevada         3.2 \n",
      "\n",
      "0      Ohio\n",
      "1      Ohio\n",
      "2      Ohio\n",
      "3    Nevada\n",
      "4    Nevada\n",
      "5    Nevada\n",
      "Name: state, dtype: object \n",
      "\n",
      "0    2000\n",
      "1    2001\n",
      "2    2002\n",
      "3    2001\n",
      "4    2002\n",
      "5    2003\n",
      "Name: year, dtype: int64\n"
     ]
    }
   ],
   "source": [
    "frame_2 = pd.DataFrame(data, columns=['year', 'state', 'population'])\n",
    "\n",
    "print(frame_2, \"\\n\")\n",
    "print(frame_2['state'], \"\\n\")\n",
    "print(frame_2.year)"
   ]
  },
  {
   "cell_type": "markdown",
   "metadata": {},
   "source": [
    "Similar to Pandas Series, you can specify the index to use. \n",
    "\n",
    "When you create a new column (that isn't contained in the dict), it will appear with missing values in the result:"
   ]
  },
  {
   "cell_type": "code",
   "execution_count": 79,
   "metadata": {},
   "outputs": [
    {
     "name": "stdout",
     "output_type": "stream",
     "text": [
      "       year   state  population debt\n",
      "one    2000    Ohio         1.5  NaN\n",
      "two    2001    Ohio         1.7  NaN\n",
      "three  2002    Ohio         3.6  NaN\n",
      "four   2001  Nevada         2.4  NaN\n",
      "five   2002  Nevada         2.9  NaN\n",
      "six    2003  Nevada         3.2  NaN\n"
     ]
    }
   ],
   "source": [
    "frame_3 = pd.DataFrame(\n",
    "    data,\n",
    "    columns=[\"year\", \"state\", \"population\", \"debt\"],\n",
    "    index=[\"one\", \"two\", \"three\", \"four\", \"five\", \"six\"],\n",
    ")\n",
    "\n",
    "print(frame_3)\n"
   ]
  },
  {
   "cell_type": "markdown",
   "metadata": {},
   "source": [
    "To access a specific row, you can use the index or labeled index:"
   ]
  },
  {
   "cell_type": "code",
   "execution_count": 58,
   "metadata": {},
   "outputs": [
    {
     "name": "stdout",
     "output_type": "stream",
     "text": [
      "year          2002\n",
      "state         Ohio\n",
      "population     3.6\n",
      "debt           NaN\n",
      "Name: three, dtype: object \n",
      "\n",
      "year          2002\n",
      "state         Ohio\n",
      "population     3.6\n",
      "debt           NaN\n",
      "Name: three, dtype: object\n"
     ]
    }
   ],
   "source": [
    "entry_three_by_id = frame_3.iloc[2]\n",
    "entry_three_by_label = frame_3.loc[\"three\"]\n",
    "\n",
    "print(entry_three_by_id, \"\\n\")\n",
    "print(entry_three_by_label)"
   ]
  },
  {
   "cell_type": "markdown",
   "metadata": {},
   "source": [
    "To select a sub-area regarding both columns and rows (labels), ``loc`` and ``iloc`` are used using the same syntax as with NumPy.\n",
    "\n",
    "**Tip:** One benefit of using Jupyter notebooks is that you can omit the ``print()`` in the last row of a code cell and pandas objects will be formatted as tables. Multiple tables can be outputted in one cell by calling the ``display()`` function instead of ``print()``."
   ]
  },
  {
   "cell_type": "code",
   "execution_count": 59,
   "metadata": {},
   "outputs": [
    {
     "data": {
      "text/html": [
       "<div>\n",
       "<style scoped>\n",
       "    .dataframe tbody tr th:only-of-type {\n",
       "        vertical-align: middle;\n",
       "    }\n",
       "\n",
       "    .dataframe tbody tr th {\n",
       "        vertical-align: top;\n",
       "    }\n",
       "\n",
       "    .dataframe thead th {\n",
       "        text-align: right;\n",
       "    }\n",
       "</style>\n",
       "<table border=\"1\" class=\"dataframe\">\n",
       "  <thead>\n",
       "    <tr style=\"text-align: right;\">\n",
       "      <th></th>\n",
       "      <th>state</th>\n",
       "      <th>population</th>\n",
       "    </tr>\n",
       "  </thead>\n",
       "  <tbody>\n",
       "    <tr>\n",
       "      <th>three</th>\n",
       "      <td>Ohio</td>\n",
       "      <td>3.6</td>\n",
       "    </tr>\n",
       "    <tr>\n",
       "      <th>four</th>\n",
       "      <td>Nevada</td>\n",
       "      <td>2.4</td>\n",
       "    </tr>\n",
       "  </tbody>\n",
       "</table>\n",
       "</div>"
      ],
      "text/plain": [
       "        state  population\n",
       "three    Ohio         3.6\n",
       "four   Nevada         2.4"
      ]
     },
     "execution_count": 59,
     "metadata": {},
     "output_type": "execute_result"
    }
   ],
   "source": [
    "sub_area_by_label = frame_3.loc[\"three\":\"four\", \"state\":\"population\"]\n",
    "sub_area_by_label"
   ]
  },
  {
   "cell_type": "markdown",
   "metadata": {},
   "source": [
    "To filter rows by values of a certain cell, the following syntax is used:"
   ]
  },
  {
   "cell_type": "code",
   "execution_count": 76,
   "metadata": {},
   "outputs": [
    {
     "data": {
      "text/html": [
       "<div>\n",
       "<style scoped>\n",
       "    .dataframe tbody tr th:only-of-type {\n",
       "        vertical-align: middle;\n",
       "    }\n",
       "\n",
       "    .dataframe tbody tr th {\n",
       "        vertical-align: top;\n",
       "    }\n",
       "\n",
       "    .dataframe thead th {\n",
       "        text-align: right;\n",
       "    }\n",
       "</style>\n",
       "<table border=\"1\" class=\"dataframe\">\n",
       "  <thead>\n",
       "    <tr style=\"text-align: right;\">\n",
       "      <th></th>\n",
       "      <th>year</th>\n",
       "      <th>state</th>\n",
       "      <th>population</th>\n",
       "      <th>debt</th>\n",
       "    </tr>\n",
       "  </thead>\n",
       "  <tbody>\n",
       "    <tr>\n",
       "      <th>three</th>\n",
       "      <td>2002</td>\n",
       "      <td>Ohio</td>\n",
       "      <td>3.6</td>\n",
       "      <td>NaN</td>\n",
       "    </tr>\n",
       "  </tbody>\n",
       "</table>\n",
       "</div>"
      ],
      "text/plain": [
       "       year state  population debt\n",
       "three  2002  Ohio         3.6  NaN"
      ]
     },
     "metadata": {},
     "output_type": "display_data"
    },
    {
     "data": {
      "text/html": [
       "<div>\n",
       "<style scoped>\n",
       "    .dataframe tbody tr th:only-of-type {\n",
       "        vertical-align: middle;\n",
       "    }\n",
       "\n",
       "    .dataframe tbody tr th {\n",
       "        vertical-align: top;\n",
       "    }\n",
       "\n",
       "    .dataframe thead th {\n",
       "        text-align: right;\n",
       "    }\n",
       "</style>\n",
       "<table border=\"1\" class=\"dataframe\">\n",
       "  <thead>\n",
       "    <tr style=\"text-align: right;\">\n",
       "      <th></th>\n",
       "      <th>year</th>\n",
       "      <th>state</th>\n",
       "      <th>population</th>\n",
       "      <th>debt</th>\n",
       "    </tr>\n",
       "  </thead>\n",
       "  <tbody>\n",
       "    <tr>\n",
       "      <th>one</th>\n",
       "      <td>2000</td>\n",
       "      <td>Ohio</td>\n",
       "      <td>1.5</td>\n",
       "      <td>NaN</td>\n",
       "    </tr>\n",
       "    <tr>\n",
       "      <th>two</th>\n",
       "      <td>2001</td>\n",
       "      <td>Ohio</td>\n",
       "      <td>1.7</td>\n",
       "      <td>NaN</td>\n",
       "    </tr>\n",
       "    <tr>\n",
       "      <th>three</th>\n",
       "      <td>2002</td>\n",
       "      <td>Ohio</td>\n",
       "      <td>3.6</td>\n",
       "      <td>NaN</td>\n",
       "    </tr>\n",
       "  </tbody>\n",
       "</table>\n",
       "</div>"
      ],
      "text/plain": [
       "       year state  population debt\n",
       "one    2000  Ohio         1.5  NaN\n",
       "two    2001  Ohio         1.7  NaN\n",
       "three  2002  Ohio         3.6  NaN"
      ]
     },
     "metadata": {},
     "output_type": "display_data"
    }
   ],
   "source": [
    "display(frame_3[frame_3[\"population\"] >= 3.5])\n",
    "\n",
    "display(frame_3[frame_3[\"state\"] == \"Ohio\"])"
   ]
  },
  {
   "cell_type": "markdown",
   "metadata": {},
   "source": [
    "#### 2.3.3: Importing a Dataset to Pandas: The Iris dataset\n",
    "Pandas offers a [variety of methods](https://pandas.pydata.org/docs/reference/io.html) to import data available in files or online.\n",
    "\n",
    "The method we will use the most in this lab is ``pd.read_csv()``, a very versatile method to read comma-separated values into a DataFrame.\n",
    "The documentation of all its parameters can be seen [here](https://pandas.pydata.org/docs/reference/api/pandas.read_csv.html#pandas-read-csv).\n",
    "\n",
    "A simple example of loading a dataset called **Iris** and displaying its first 6 rows can be seen below:"
   ]
  },
  {
   "cell_type": "code",
   "execution_count": 66,
   "metadata": {},
   "outputs": [
    {
     "data": {
      "text/html": [
       "<div>\n",
       "<style scoped>\n",
       "    .dataframe tbody tr th:only-of-type {\n",
       "        vertical-align: middle;\n",
       "    }\n",
       "\n",
       "    .dataframe tbody tr th {\n",
       "        vertical-align: top;\n",
       "    }\n",
       "\n",
       "    .dataframe thead th {\n",
       "        text-align: right;\n",
       "    }\n",
       "</style>\n",
       "<table border=\"1\" class=\"dataframe\">\n",
       "  <thead>\n",
       "    <tr style=\"text-align: right;\">\n",
       "      <th></th>\n",
       "      <th>0</th>\n",
       "      <th>1</th>\n",
       "      <th>2</th>\n",
       "      <th>3</th>\n",
       "      <th>4</th>\n",
       "    </tr>\n",
       "  </thead>\n",
       "  <tbody>\n",
       "    <tr>\n",
       "      <th>0</th>\n",
       "      <td>5.1</td>\n",
       "      <td>3.5</td>\n",
       "      <td>1.4</td>\n",
       "      <td>0.2</td>\n",
       "      <td>Iris-setosa</td>\n",
       "    </tr>\n",
       "    <tr>\n",
       "      <th>1</th>\n",
       "      <td>4.9</td>\n",
       "      <td>3.0</td>\n",
       "      <td>1.4</td>\n",
       "      <td>0.2</td>\n",
       "      <td>Iris-setosa</td>\n",
       "    </tr>\n",
       "    <tr>\n",
       "      <th>2</th>\n",
       "      <td>4.7</td>\n",
       "      <td>3.2</td>\n",
       "      <td>1.3</td>\n",
       "      <td>0.2</td>\n",
       "      <td>Iris-setosa</td>\n",
       "    </tr>\n",
       "    <tr>\n",
       "      <th>3</th>\n",
       "      <td>4.6</td>\n",
       "      <td>3.1</td>\n",
       "      <td>1.5</td>\n",
       "      <td>0.2</td>\n",
       "      <td>Iris-setosa</td>\n",
       "    </tr>\n",
       "    <tr>\n",
       "      <th>4</th>\n",
       "      <td>5.0</td>\n",
       "      <td>3.6</td>\n",
       "      <td>1.4</td>\n",
       "      <td>0.2</td>\n",
       "      <td>Iris-setosa</td>\n",
       "    </tr>\n",
       "    <tr>\n",
       "      <th>5</th>\n",
       "      <td>5.4</td>\n",
       "      <td>3.9</td>\n",
       "      <td>1.7</td>\n",
       "      <td>0.4</td>\n",
       "      <td>Iris-setosa</td>\n",
       "    </tr>\n",
       "  </tbody>\n",
       "</table>\n",
       "</div>"
      ],
      "text/plain": [
       "     0    1    2    3            4\n",
       "0  5.1  3.5  1.4  0.2  Iris-setosa\n",
       "1  4.9  3.0  1.4  0.2  Iris-setosa\n",
       "2  4.7  3.2  1.3  0.2  Iris-setosa\n",
       "3  4.6  3.1  1.5  0.2  Iris-setosa\n",
       "4  5.0  3.6  1.4  0.2  Iris-setosa\n",
       "5  5.4  3.9  1.7  0.4  Iris-setosa"
      ]
     },
     "execution_count": 66,
     "metadata": {},
     "output_type": "execute_result"
    }
   ],
   "source": [
    "iris_data_raw = pd.read_csv(\"data/iris.data\", header=None, sep=\",\")\n",
    "iris_data_raw.head(6)\n"
   ]
  },
  {
   "cell_type": "markdown",
   "metadata": {},
   "source": [
    "This dataset will be used in later examples, hence we will take a look at it in further details.\n",
    "\n",
    "The **Iris dataset** contains 150 samples of measurement data from three different species of iris flowers.\n",
    "\n",
    "Each of the flower specimens is represented by a row in this data collection.\n",
    "In each column the measured characteristics (features) are given in centimeters:\n",
    "\n",
    "- Sepal length\n",
    "- Sepal width\n",
    "- Petal length\n",
    "- Petal width\n",
    "\n",
    "![visualization of petal and sepal width and height on a picture of an iris flower, photo by Erzsébet Vehofsics on Unsplash](figures/iris_dataset_petal_sepal.png)\n",
    "\n",
    "In the last column, the species of that data sample is specified:\n",
    "\n",
    "- Iris-setosa\n",
    "- Iris-versicolor\n",
    "- Iris-virginica\n",
    "\n",
    "We can add this information to the DataFrame using the already known columns attribute.\n",
    "The class is written as label. In some cases it will be useful to have a factorial id, so we can generate this as well:"
   ]
  },
  {
   "cell_type": "code",
   "execution_count": 80,
   "metadata": {},
   "outputs": [
    {
     "data": {
      "text/html": [
       "<div>\n",
       "<style scoped>\n",
       "    .dataframe tbody tr th:only-of-type {\n",
       "        vertical-align: middle;\n",
       "    }\n",
       "\n",
       "    .dataframe tbody tr th {\n",
       "        vertical-align: top;\n",
       "    }\n",
       "\n",
       "    .dataframe thead th {\n",
       "        text-align: right;\n",
       "    }\n",
       "</style>\n",
       "<table border=\"1\" class=\"dataframe\">\n",
       "  <thead>\n",
       "    <tr style=\"text-align: right;\">\n",
       "      <th></th>\n",
       "      <th>sepal_length</th>\n",
       "      <th>sepal_width</th>\n",
       "      <th>petal_length</th>\n",
       "      <th>petal_width</th>\n",
       "      <th>class</th>\n",
       "      <th>class_id</th>\n",
       "    </tr>\n",
       "  </thead>\n",
       "  <tbody>\n",
       "    <tr>\n",
       "      <th>0</th>\n",
       "      <td>5.1</td>\n",
       "      <td>3.5</td>\n",
       "      <td>1.4</td>\n",
       "      <td>0.2</td>\n",
       "      <td>Iris-setosa</td>\n",
       "      <td>0</td>\n",
       "    </tr>\n",
       "    <tr>\n",
       "      <th>1</th>\n",
       "      <td>4.9</td>\n",
       "      <td>3.0</td>\n",
       "      <td>1.4</td>\n",
       "      <td>0.2</td>\n",
       "      <td>Iris-setosa</td>\n",
       "      <td>0</td>\n",
       "    </tr>\n",
       "    <tr>\n",
       "      <th>2</th>\n",
       "      <td>4.7</td>\n",
       "      <td>3.2</td>\n",
       "      <td>1.3</td>\n",
       "      <td>0.2</td>\n",
       "      <td>Iris-setosa</td>\n",
       "      <td>0</td>\n",
       "    </tr>\n",
       "    <tr>\n",
       "      <th>3</th>\n",
       "      <td>4.6</td>\n",
       "      <td>3.1</td>\n",
       "      <td>1.5</td>\n",
       "      <td>0.2</td>\n",
       "      <td>Iris-setosa</td>\n",
       "      <td>0</td>\n",
       "    </tr>\n",
       "    <tr>\n",
       "      <th>4</th>\n",
       "      <td>5.0</td>\n",
       "      <td>3.6</td>\n",
       "      <td>1.4</td>\n",
       "      <td>0.2</td>\n",
       "      <td>Iris-setosa</td>\n",
       "      <td>0</td>\n",
       "    </tr>\n",
       "    <tr>\n",
       "      <th>...</th>\n",
       "      <td>...</td>\n",
       "      <td>...</td>\n",
       "      <td>...</td>\n",
       "      <td>...</td>\n",
       "      <td>...</td>\n",
       "      <td>...</td>\n",
       "    </tr>\n",
       "    <tr>\n",
       "      <th>145</th>\n",
       "      <td>6.7</td>\n",
       "      <td>3.0</td>\n",
       "      <td>5.2</td>\n",
       "      <td>2.3</td>\n",
       "      <td>Iris-virginica</td>\n",
       "      <td>2</td>\n",
       "    </tr>\n",
       "    <tr>\n",
       "      <th>146</th>\n",
       "      <td>6.3</td>\n",
       "      <td>2.5</td>\n",
       "      <td>5.0</td>\n",
       "      <td>1.9</td>\n",
       "      <td>Iris-virginica</td>\n",
       "      <td>2</td>\n",
       "    </tr>\n",
       "    <tr>\n",
       "      <th>147</th>\n",
       "      <td>6.5</td>\n",
       "      <td>3.0</td>\n",
       "      <td>5.2</td>\n",
       "      <td>2.0</td>\n",
       "      <td>Iris-virginica</td>\n",
       "      <td>2</td>\n",
       "    </tr>\n",
       "    <tr>\n",
       "      <th>148</th>\n",
       "      <td>6.2</td>\n",
       "      <td>3.4</td>\n",
       "      <td>5.4</td>\n",
       "      <td>2.3</td>\n",
       "      <td>Iris-virginica</td>\n",
       "      <td>2</td>\n",
       "    </tr>\n",
       "    <tr>\n",
       "      <th>149</th>\n",
       "      <td>5.9</td>\n",
       "      <td>3.0</td>\n",
       "      <td>5.1</td>\n",
       "      <td>1.8</td>\n",
       "      <td>Iris-virginica</td>\n",
       "      <td>2</td>\n",
       "    </tr>\n",
       "  </tbody>\n",
       "</table>\n",
       "<p>150 rows × 6 columns</p>\n",
       "</div>"
      ],
      "text/plain": [
       "     sepal_length  sepal_width  petal_length  petal_width           class  \\\n",
       "0             5.1          3.5           1.4          0.2     Iris-setosa   \n",
       "1             4.9          3.0           1.4          0.2     Iris-setosa   \n",
       "2             4.7          3.2           1.3          0.2     Iris-setosa   \n",
       "3             4.6          3.1           1.5          0.2     Iris-setosa   \n",
       "4             5.0          3.6           1.4          0.2     Iris-setosa   \n",
       "..            ...          ...           ...          ...             ...   \n",
       "145           6.7          3.0           5.2          2.3  Iris-virginica   \n",
       "146           6.3          2.5           5.0          1.9  Iris-virginica   \n",
       "147           6.5          3.0           5.2          2.0  Iris-virginica   \n",
       "148           6.2          3.4           5.4          2.3  Iris-virginica   \n",
       "149           5.9          3.0           5.1          1.8  Iris-virginica   \n",
       "\n",
       "     class_id  \n",
       "0           0  \n",
       "1           0  \n",
       "2           0  \n",
       "3           0  \n",
       "4           0  \n",
       "..        ...  \n",
       "145         2  \n",
       "146         2  \n",
       "147         2  \n",
       "148         2  \n",
       "149         2  \n",
       "\n",
       "[150 rows x 6 columns]"
      ]
     },
     "execution_count": 80,
     "metadata": {},
     "output_type": "execute_result"
    }
   ],
   "source": [
    "iris_data = iris_data_raw.copy()\n",
    "\n",
    "iris_data.columns = [\n",
    "    \"sepal_length\",\n",
    "    \"sepal_width\",\n",
    "    \"petal_length\",\n",
    "    \"petal_width\",\n",
    "    \"class\",\n",
    "]\n",
    "\n",
    "iris_data[\"class_id\"] = pd.factorize(iris_data[\"class\"])[0]\n",
    "\n",
    "iris_data"
   ]
  },
  {
   "cell_type": "markdown",
   "metadata": {},
   "source": [
    "Due to the great interoperability of Pandas and Matplotlib, we can create a visualization of the given data along a selection of axes in only a few lines of code:"
   ]
  },
  {
   "cell_type": "code",
   "execution_count": 82,
   "metadata": {},
   "outputs": [
    {
     "data": {
      "image/png": "[encoded data removed]",
      "text/plain": [
       "<Figure size 1400x500 with 2 Axes>"
      ]
     },
     "metadata": {},
     "output_type": "display_data"
    }
   ],
   "source": [
    "modes = [\"petal\", \"sepal\"]\n",
    "fig = plt.figure(figsize=(14, 5))\n",
    "axs = fig.subplots(1, len(modes))\n",
    "\n",
    "for i in range(len(axs)):\n",
    "    sc = axs[i].scatter(iris_data[f\"{modes[i]}_length\"], iris_data[f\"{modes[i]}_width\"], c=iris_data[\"class_id\"])\n",
    "    axs[i].update(dict(title=f\"Iris specimens {modes[i]}\", xlabel=f\"{modes[i]}_length\", ylabel=f\"{modes[i]}_width\"))\n",
    "\n",
    "plt.legend(*sc.legend_elements(), title=\"class_id\")\n",
    "plt.show()"
   ]
  },
  {
   "cell_type": "markdown",
   "metadata": {},
   "source": [
    "#### 2.3.4: Grouping and Combining DataFrames\n",
    "Typical operations on tabular data are aggregation functions that group or merge tables, concepts like joins that are known from relational databases (you might remember SQL).\n",
    "\n",
    "In this section a short overview of the appropriate Pandas functions is given:\n",
    "\n",
    "**Grouping for Aggregation**:"
   ]
  },
  {
   "cell_type": "code",
   "execution_count": 84,
   "metadata": {},
   "outputs": [
    {
     "data": {
      "text/html": [
       "<div>\n",
       "<style scoped>\n",
       "    .dataframe tbody tr th:only-of-type {\n",
       "        vertical-align: middle;\n",
       "    }\n",
       "\n",
       "    .dataframe tbody tr th {\n",
       "        vertical-align: top;\n",
       "    }\n",
       "\n",
       "    .dataframe thead th {\n",
       "        text-align: right;\n",
       "    }\n",
       "</style>\n",
       "<table border=\"1\" class=\"dataframe\">\n",
       "  <thead>\n",
       "    <tr style=\"text-align: right;\">\n",
       "      <th></th>\n",
       "      <th>sepal_length</th>\n",
       "      <th>sepal_width</th>\n",
       "      <th>petal_length</th>\n",
       "      <th>petal_width</th>\n",
       "      <th>class_id</th>\n",
       "    </tr>\n",
       "    <tr>\n",
       "      <th>class</th>\n",
       "      <th></th>\n",
       "      <th></th>\n",
       "      <th></th>\n",
       "      <th></th>\n",
       "      <th></th>\n",
       "    </tr>\n",
       "  </thead>\n",
       "  <tbody>\n",
       "    <tr>\n",
       "      <th>Iris-setosa</th>\n",
       "      <td>5.006</td>\n",
       "      <td>3.418</td>\n",
       "      <td>1.464</td>\n",
       "      <td>0.244</td>\n",
       "      <td>0.0</td>\n",
       "    </tr>\n",
       "    <tr>\n",
       "      <th>Iris-versicolor</th>\n",
       "      <td>5.936</td>\n",
       "      <td>2.770</td>\n",
       "      <td>4.260</td>\n",
       "      <td>1.326</td>\n",
       "      <td>1.0</td>\n",
       "    </tr>\n",
       "    <tr>\n",
       "      <th>Iris-virginica</th>\n",
       "      <td>6.588</td>\n",
       "      <td>2.974</td>\n",
       "      <td>5.552</td>\n",
       "      <td>2.026</td>\n",
       "      <td>2.0</td>\n",
       "    </tr>\n",
       "  </tbody>\n",
       "</table>\n",
       "</div>"
      ],
      "text/plain": [
       "                 sepal_length  sepal_width  petal_length  petal_width  \\\n",
       "class                                                                   \n",
       "Iris-setosa             5.006        3.418         1.464        0.244   \n",
       "Iris-versicolor         5.936        2.770         4.260        1.326   \n",
       "Iris-virginica          6.588        2.974         5.552        2.026   \n",
       "\n",
       "                 class_id  \n",
       "class                      \n",
       "Iris-setosa           0.0  \n",
       "Iris-versicolor       1.0  \n",
       "Iris-virginica        2.0  "
      ]
     },
     "metadata": {},
     "output_type": "display_data"
    },
    {
     "data": {
      "text/html": [
       "<div>\n",
       "<style scoped>\n",
       "    .dataframe tbody tr th:only-of-type {\n",
       "        vertical-align: middle;\n",
       "    }\n",
       "\n",
       "    .dataframe tbody tr th {\n",
       "        vertical-align: top;\n",
       "    }\n",
       "\n",
       "    .dataframe thead th {\n",
       "        text-align: right;\n",
       "    }\n",
       "</style>\n",
       "<table border=\"1\" class=\"dataframe\">\n",
       "  <thead>\n",
       "    <tr style=\"text-align: right;\">\n",
       "      <th></th>\n",
       "      <th></th>\n",
       "      <th>sepal_length</th>\n",
       "      <th>sepal_width</th>\n",
       "      <th>petal_length</th>\n",
       "      <th>petal_width</th>\n",
       "    </tr>\n",
       "    <tr>\n",
       "      <th>class</th>\n",
       "      <th>class_id</th>\n",
       "      <th></th>\n",
       "      <th></th>\n",
       "      <th></th>\n",
       "      <th></th>\n",
       "    </tr>\n",
       "  </thead>\n",
       "  <tbody>\n",
       "    <tr>\n",
       "      <th>Iris-setosa</th>\n",
       "      <th>0</th>\n",
       "      <td>250.3</td>\n",
       "      <td>170.9</td>\n",
       "      <td>73.2</td>\n",
       "      <td>12.2</td>\n",
       "    </tr>\n",
       "    <tr>\n",
       "      <th>Iris-versicolor</th>\n",
       "      <th>1</th>\n",
       "      <td>296.8</td>\n",
       "      <td>138.5</td>\n",
       "      <td>213.0</td>\n",
       "      <td>66.3</td>\n",
       "    </tr>\n",
       "    <tr>\n",
       "      <th>Iris-virginica</th>\n",
       "      <th>2</th>\n",
       "      <td>329.4</td>\n",
       "      <td>148.7</td>\n",
       "      <td>277.6</td>\n",
       "      <td>101.3</td>\n",
       "    </tr>\n",
       "  </tbody>\n",
       "</table>\n",
       "</div>"
      ],
      "text/plain": [
       "                          sepal_length  sepal_width  petal_length  petal_width\n",
       "class           class_id                                                      \n",
       "Iris-setosa     0                250.3        170.9          73.2         12.2\n",
       "Iris-versicolor 1                296.8        138.5         213.0         66.3\n",
       "Iris-virginica  2                329.4        148.7         277.6        101.3"
      ]
     },
     "metadata": {},
     "output_type": "display_data"
    }
   ],
   "source": [
    "display(iris_data.groupby(by=[\"class\"]).mean())\n",
    "display(iris_data.groupby(by=[\"class\", \"class_id\"]).sum())"
   ]
  },
  {
   "cell_type": "markdown",
   "metadata": {},
   "source": [
    "**Merging (Joins)**:"
   ]
  },
  {
   "cell_type": "code",
   "execution_count": 103,
   "metadata": {},
   "outputs": [
    {
     "data": {
      "text/plain": [
       "'Original Data'"
      ]
     },
     "metadata": {},
     "output_type": "display_data"
    },
    {
     "data": {
      "text/html": [
       "<div>\n",
       "<style scoped>\n",
       "    .dataframe tbody tr th:only-of-type {\n",
       "        vertical-align: middle;\n",
       "    }\n",
       "\n",
       "    .dataframe tbody tr th {\n",
       "        vertical-align: top;\n",
       "    }\n",
       "\n",
       "    .dataframe thead th {\n",
       "        text-align: right;\n",
       "    }\n",
       "</style>\n",
       "<table border=\"1\" class=\"dataframe\">\n",
       "  <thead>\n",
       "    <tr style=\"text-align: right;\">\n",
       "      <th></th>\n",
       "      <th>C1</th>\n",
       "      <th>C2</th>\n",
       "    </tr>\n",
       "  </thead>\n",
       "  <tbody>\n",
       "    <tr>\n",
       "      <th>0</th>\n",
       "      <td>a</td>\n",
       "      <td>11.432</td>\n",
       "    </tr>\n",
       "    <tr>\n",
       "      <th>1</th>\n",
       "      <td>b</td>\n",
       "      <td>1.303</td>\n",
       "    </tr>\n",
       "    <tr>\n",
       "      <th>2</th>\n",
       "      <td>c</td>\n",
       "      <td>99.906</td>\n",
       "    </tr>\n",
       "  </tbody>\n",
       "</table>\n",
       "</div>"
      ],
      "text/plain": [
       "  C1      C2\n",
       "0  a  11.432\n",
       "1  b   1.303\n",
       "2  c  99.906"
      ]
     },
     "metadata": {},
     "output_type": "display_data"
    },
    {
     "data": {
      "text/html": [
       "<div>\n",
       "<style scoped>\n",
       "    .dataframe tbody tr th:only-of-type {\n",
       "        vertical-align: middle;\n",
       "    }\n",
       "\n",
       "    .dataframe tbody tr th {\n",
       "        vertical-align: top;\n",
       "    }\n",
       "\n",
       "    .dataframe thead th {\n",
       "        text-align: right;\n",
       "    }\n",
       "</style>\n",
       "<table border=\"1\" class=\"dataframe\">\n",
       "  <thead>\n",
       "    <tr style=\"text-align: right;\">\n",
       "      <th></th>\n",
       "      <th>C1</th>\n",
       "      <th>C3</th>\n",
       "    </tr>\n",
       "  </thead>\n",
       "  <tbody>\n",
       "    <tr>\n",
       "      <th>0</th>\n",
       "      <td>a</td>\n",
       "      <td>20.785</td>\n",
       "    </tr>\n",
       "    <tr>\n",
       "      <th>1</th>\n",
       "      <td>b</td>\n",
       "      <td>NaN</td>\n",
       "    </tr>\n",
       "    <tr>\n",
       "      <th>2</th>\n",
       "      <td>d</td>\n",
       "      <td>20.784</td>\n",
       "    </tr>\n",
       "  </tbody>\n",
       "</table>\n",
       "</div>"
      ],
      "text/plain": [
       "  C1      C3\n",
       "0  a  20.785\n",
       "1  b     NaN\n",
       "2  d  20.784"
      ]
     },
     "metadata": {},
     "output_type": "display_data"
    },
    {
     "data": {
      "text/plain": [
       "'Left Join (on C1)'"
      ]
     },
     "metadata": {},
     "output_type": "display_data"
    },
    {
     "data": {
      "text/html": [
       "<div>\n",
       "<style scoped>\n",
       "    .dataframe tbody tr th:only-of-type {\n",
       "        vertical-align: middle;\n",
       "    }\n",
       "\n",
       "    .dataframe tbody tr th {\n",
       "        vertical-align: top;\n",
       "    }\n",
       "\n",
       "    .dataframe thead th {\n",
       "        text-align: right;\n",
       "    }\n",
       "</style>\n",
       "<table border=\"1\" class=\"dataframe\">\n",
       "  <thead>\n",
       "    <tr style=\"text-align: right;\">\n",
       "      <th></th>\n",
       "      <th>C1</th>\n",
       "      <th>C2</th>\n",
       "      <th>C3</th>\n",
       "    </tr>\n",
       "  </thead>\n",
       "  <tbody>\n",
       "    <tr>\n",
       "      <th>0</th>\n",
       "      <td>a</td>\n",
       "      <td>11.432</td>\n",
       "      <td>20.785</td>\n",
       "    </tr>\n",
       "    <tr>\n",
       "      <th>1</th>\n",
       "      <td>b</td>\n",
       "      <td>1.303</td>\n",
       "      <td>NaN</td>\n",
       "    </tr>\n",
       "    <tr>\n",
       "      <th>2</th>\n",
       "      <td>c</td>\n",
       "      <td>99.906</td>\n",
       "      <td>NaN</td>\n",
       "    </tr>\n",
       "  </tbody>\n",
       "</table>\n",
       "</div>"
      ],
      "text/plain": [
       "  C1      C2      C3\n",
       "0  a  11.432  20.785\n",
       "1  b   1.303     NaN\n",
       "2  c  99.906     NaN"
      ]
     },
     "metadata": {},
     "output_type": "display_data"
    },
    {
     "data": {
      "text/plain": [
       "'Right Join (on C1)'"
      ]
     },
     "metadata": {},
     "output_type": "display_data"
    },
    {
     "data": {
      "text/html": [
       "<div>\n",
       "<style scoped>\n",
       "    .dataframe tbody tr th:only-of-type {\n",
       "        vertical-align: middle;\n",
       "    }\n",
       "\n",
       "    .dataframe tbody tr th {\n",
       "        vertical-align: top;\n",
       "    }\n",
       "\n",
       "    .dataframe thead th {\n",
       "        text-align: right;\n",
       "    }\n",
       "</style>\n",
       "<table border=\"1\" class=\"dataframe\">\n",
       "  <thead>\n",
       "    <tr style=\"text-align: right;\">\n",
       "      <th></th>\n",
       "      <th>C1</th>\n",
       "      <th>C2</th>\n",
       "      <th>C3</th>\n",
       "    </tr>\n",
       "  </thead>\n",
       "  <tbody>\n",
       "    <tr>\n",
       "      <th>0</th>\n",
       "      <td>a</td>\n",
       "      <td>11.432</td>\n",
       "      <td>20.785</td>\n",
       "    </tr>\n",
       "    <tr>\n",
       "      <th>1</th>\n",
       "      <td>b</td>\n",
       "      <td>1.303</td>\n",
       "      <td>NaN</td>\n",
       "    </tr>\n",
       "    <tr>\n",
       "      <th>2</th>\n",
       "      <td>d</td>\n",
       "      <td>NaN</td>\n",
       "      <td>20.784</td>\n",
       "    </tr>\n",
       "  </tbody>\n",
       "</table>\n",
       "</div>"
      ],
      "text/plain": [
       "  C1      C2      C3\n",
       "0  a  11.432  20.785\n",
       "1  b   1.303     NaN\n",
       "2  d     NaN  20.784"
      ]
     },
     "metadata": {},
     "output_type": "display_data"
    },
    {
     "data": {
      "text/plain": [
       "'Inner Join (on C1)'"
      ]
     },
     "metadata": {},
     "output_type": "display_data"
    },
    {
     "data": {
      "text/html": [
       "<div>\n",
       "<style scoped>\n",
       "    .dataframe tbody tr th:only-of-type {\n",
       "        vertical-align: middle;\n",
       "    }\n",
       "\n",
       "    .dataframe tbody tr th {\n",
       "        vertical-align: top;\n",
       "    }\n",
       "\n",
       "    .dataframe thead th {\n",
       "        text-align: right;\n",
       "    }\n",
       "</style>\n",
       "<table border=\"1\" class=\"dataframe\">\n",
       "  <thead>\n",
       "    <tr style=\"text-align: right;\">\n",
       "      <th></th>\n",
       "      <th>C1</th>\n",
       "      <th>C2</th>\n",
       "      <th>C3</th>\n",
       "    </tr>\n",
       "  </thead>\n",
       "  <tbody>\n",
       "    <tr>\n",
       "      <th>0</th>\n",
       "      <td>a</td>\n",
       "      <td>11.432</td>\n",
       "      <td>20.785</td>\n",
       "    </tr>\n",
       "    <tr>\n",
       "      <th>1</th>\n",
       "      <td>b</td>\n",
       "      <td>1.303</td>\n",
       "      <td>NaN</td>\n",
       "    </tr>\n",
       "  </tbody>\n",
       "</table>\n",
       "</div>"
      ],
      "text/plain": [
       "  C1      C2      C3\n",
       "0  a  11.432  20.785\n",
       "1  b   1.303     NaN"
      ]
     },
     "metadata": {},
     "output_type": "display_data"
    },
    {
     "data": {
      "text/plain": [
       "'Outer Join (on C1)'"
      ]
     },
     "metadata": {},
     "output_type": "display_data"
    },
    {
     "data": {
      "text/html": [
       "<div>\n",
       "<style scoped>\n",
       "    .dataframe tbody tr th:only-of-type {\n",
       "        vertical-align: middle;\n",
       "    }\n",
       "\n",
       "    .dataframe tbody tr th {\n",
       "        vertical-align: top;\n",
       "    }\n",
       "\n",
       "    .dataframe thead th {\n",
       "        text-align: right;\n",
       "    }\n",
       "</style>\n",
       "<table border=\"1\" class=\"dataframe\">\n",
       "  <thead>\n",
       "    <tr style=\"text-align: right;\">\n",
       "      <th></th>\n",
       "      <th>C1</th>\n",
       "      <th>C2</th>\n",
       "      <th>C3</th>\n",
       "    </tr>\n",
       "  </thead>\n",
       "  <tbody>\n",
       "    <tr>\n",
       "      <th>0</th>\n",
       "      <td>a</td>\n",
       "      <td>11.432</td>\n",
       "      <td>20.785</td>\n",
       "    </tr>\n",
       "    <tr>\n",
       "      <th>1</th>\n",
       "      <td>b</td>\n",
       "      <td>1.303</td>\n",
       "      <td>NaN</td>\n",
       "    </tr>\n",
       "    <tr>\n",
       "      <th>2</th>\n",
       "      <td>c</td>\n",
       "      <td>99.906</td>\n",
       "      <td>NaN</td>\n",
       "    </tr>\n",
       "    <tr>\n",
       "      <th>3</th>\n",
       "      <td>d</td>\n",
       "      <td>NaN</td>\n",
       "      <td>20.784</td>\n",
       "    </tr>\n",
       "  </tbody>\n",
       "</table>\n",
       "</div>"
      ],
      "text/plain": [
       "  C1      C2      C3\n",
       "0  a  11.432  20.785\n",
       "1  b   1.303     NaN\n",
       "2  c  99.906     NaN\n",
       "3  d     NaN  20.784"
      ]
     },
     "metadata": {},
     "output_type": "display_data"
    }
   ],
   "source": [
    "data_1 = pd.DataFrame({\"C1\": [\"a\", \"b\", \"c\"], \"C2\": [11.432, 1.303, 99.906]})\n",
    "data_2 = pd.DataFrame({\"C1\": [\"a\", \"b\", \"d\"], \"C3\": [20.785, np.nan, 20.784]})\n",
    "\n",
    "display(\"Original Data\", data_1, data_2)\n",
    "\n",
    "display(\"Left Join (on C1)\", pd.merge(data_1, data_2, how=\"left\", on=\"C1\"))\n",
    "display(\"Right Join (on C1)\", pd.merge(data_1, data_2, how=\"right\", on=\"C1\"))\n",
    "display(\"Inner Join (on C1)\", pd.merge(data_1, data_2, how=\"inner\", on=\"C1\"))\n",
    "display(\"Outer Join (on C1)\", pd.merge(data_1, data_2, how=\"outer\", on=\"C1\"))"
   ]
  },
  {
   "cell_type": "markdown",
   "metadata": {},
   "source": [
    "**Concatenation**: Appending Dataframes without joining on specific keys"
   ]
  },
  {
   "cell_type": "code",
   "execution_count": 104,
   "metadata": {},
   "outputs": [
    {
     "data": {
      "text/plain": [
       "'Horizontal Concatenation'"
      ]
     },
     "metadata": {},
     "output_type": "display_data"
    },
    {
     "data": {
      "text/html": [
       "<div>\n",
       "<style scoped>\n",
       "    .dataframe tbody tr th:only-of-type {\n",
       "        vertical-align: middle;\n",
       "    }\n",
       "\n",
       "    .dataframe tbody tr th {\n",
       "        vertical-align: top;\n",
       "    }\n",
       "\n",
       "    .dataframe thead th {\n",
       "        text-align: right;\n",
       "    }\n",
       "</style>\n",
       "<table border=\"1\" class=\"dataframe\">\n",
       "  <thead>\n",
       "    <tr style=\"text-align: right;\">\n",
       "      <th></th>\n",
       "      <th>C1</th>\n",
       "      <th>C2</th>\n",
       "      <th>C1</th>\n",
       "      <th>C3</th>\n",
       "    </tr>\n",
       "  </thead>\n",
       "  <tbody>\n",
       "    <tr>\n",
       "      <th>0</th>\n",
       "      <td>a</td>\n",
       "      <td>11.432</td>\n",
       "      <td>a</td>\n",
       "      <td>20.785</td>\n",
       "    </tr>\n",
       "    <tr>\n",
       "      <th>1</th>\n",
       "      <td>b</td>\n",
       "      <td>1.303</td>\n",
       "      <td>b</td>\n",
       "      <td>NaN</td>\n",
       "    </tr>\n",
       "    <tr>\n",
       "      <th>2</th>\n",
       "      <td>c</td>\n",
       "      <td>99.906</td>\n",
       "      <td>d</td>\n",
       "      <td>20.784</td>\n",
       "    </tr>\n",
       "  </tbody>\n",
       "</table>\n",
       "</div>"
      ],
      "text/plain": [
       "  C1      C2 C1      C3\n",
       "0  a  11.432  a  20.785\n",
       "1  b   1.303  b     NaN\n",
       "2  c  99.906  d  20.784"
      ]
     },
     "metadata": {},
     "output_type": "display_data"
    },
    {
     "data": {
      "text/plain": [
       "'Vertical Concatenation'"
      ]
     },
     "metadata": {},
     "output_type": "display_data"
    },
    {
     "data": {
      "text/html": [
       "<div>\n",
       "<style scoped>\n",
       "    .dataframe tbody tr th:only-of-type {\n",
       "        vertical-align: middle;\n",
       "    }\n",
       "\n",
       "    .dataframe tbody tr th {\n",
       "        vertical-align: top;\n",
       "    }\n",
       "\n",
       "    .dataframe thead th {\n",
       "        text-align: right;\n",
       "    }\n",
       "</style>\n",
       "<table border=\"1\" class=\"dataframe\">\n",
       "  <thead>\n",
       "    <tr style=\"text-align: right;\">\n",
       "      <th></th>\n",
       "      <th>C1</th>\n",
       "      <th>C2</th>\n",
       "      <th>C3</th>\n",
       "    </tr>\n",
       "  </thead>\n",
       "  <tbody>\n",
       "    <tr>\n",
       "      <th>0</th>\n",
       "      <td>a</td>\n",
       "      <td>11.432</td>\n",
       "      <td>NaN</td>\n",
       "    </tr>\n",
       "    <tr>\n",
       "      <th>1</th>\n",
       "      <td>b</td>\n",
       "      <td>1.303</td>\n",
       "      <td>NaN</td>\n",
       "    </tr>\n",
       "    <tr>\n",
       "      <th>2</th>\n",
       "      <td>c</td>\n",
       "      <td>99.906</td>\n",
       "      <td>NaN</td>\n",
       "    </tr>\n",
       "    <tr>\n",
       "      <th>0</th>\n",
       "      <td>a</td>\n",
       "      <td>NaN</td>\n",
       "      <td>20.785</td>\n",
       "    </tr>\n",
       "    <tr>\n",
       "      <th>1</th>\n",
       "      <td>b</td>\n",
       "      <td>NaN</td>\n",
       "      <td>NaN</td>\n",
       "    </tr>\n",
       "    <tr>\n",
       "      <th>2</th>\n",
       "      <td>d</td>\n",
       "      <td>NaN</td>\n",
       "      <td>20.784</td>\n",
       "    </tr>\n",
       "  </tbody>\n",
       "</table>\n",
       "</div>"
      ],
      "text/plain": [
       "  C1      C2      C3\n",
       "0  a  11.432     NaN\n",
       "1  b   1.303     NaN\n",
       "2  c  99.906     NaN\n",
       "0  a     NaN  20.785\n",
       "1  b     NaN     NaN\n",
       "2  d     NaN  20.784"
      ]
     },
     "metadata": {},
     "output_type": "display_data"
    }
   ],
   "source": [
    "display(\"Horizontal Concatenation\", pd.concat([data_1, data_2], axis=1, join=\"inner\"))\n",
    "display(\"Vertical Concatenation\", pd.concat([data_1, data_2], axis=0, join=\"outer\"))"
   ]
  },
  {
   "cell_type": "markdown",
   "metadata": {},
   "source": [
    "Oftentimes it will also be required to remove lines with ``NaN`` (Not a Number / missing) values or replace these values."
   ]
  },
  {
   "cell_type": "code",
   "execution_count": 94,
   "metadata": {},
   "outputs": [
    {
     "data": {
      "text/html": [
       "<div>\n",
       "<style scoped>\n",
       "    .dataframe tbody tr th:only-of-type {\n",
       "        vertical-align: middle;\n",
       "    }\n",
       "\n",
       "    .dataframe tbody tr th {\n",
       "        vertical-align: top;\n",
       "    }\n",
       "\n",
       "    .dataframe thead th {\n",
       "        text-align: right;\n",
       "    }\n",
       "</style>\n",
       "<table border=\"1\" class=\"dataframe\">\n",
       "  <thead>\n",
       "    <tr style=\"text-align: right;\">\n",
       "      <th></th>\n",
       "      <th>C1</th>\n",
       "      <th>C3</th>\n",
       "    </tr>\n",
       "  </thead>\n",
       "  <tbody>\n",
       "    <tr>\n",
       "      <th>0</th>\n",
       "      <td>a</td>\n",
       "      <td>20.785</td>\n",
       "    </tr>\n",
       "    <tr>\n",
       "      <th>1</th>\n",
       "      <td>b</td>\n",
       "      <td>NaN</td>\n",
       "    </tr>\n",
       "    <tr>\n",
       "      <th>2</th>\n",
       "      <td>d</td>\n",
       "      <td>20.784</td>\n",
       "    </tr>\n",
       "  </tbody>\n",
       "</table>\n",
       "</div>"
      ],
      "text/plain": [
       "  C1      C3\n",
       "0  a  20.785\n",
       "1  b     NaN\n",
       "2  d  20.784"
      ]
     },
     "metadata": {},
     "output_type": "display_data"
    },
    {
     "data": {
      "text/html": [
       "<div>\n",
       "<style scoped>\n",
       "    .dataframe tbody tr th:only-of-type {\n",
       "        vertical-align: middle;\n",
       "    }\n",
       "\n",
       "    .dataframe tbody tr th {\n",
       "        vertical-align: top;\n",
       "    }\n",
       "\n",
       "    .dataframe thead th {\n",
       "        text-align: right;\n",
       "    }\n",
       "</style>\n",
       "<table border=\"1\" class=\"dataframe\">\n",
       "  <thead>\n",
       "    <tr style=\"text-align: right;\">\n",
       "      <th></th>\n",
       "      <th>C1</th>\n",
       "      <th>C3</th>\n",
       "    </tr>\n",
       "  </thead>\n",
       "  <tbody>\n",
       "    <tr>\n",
       "      <th>0</th>\n",
       "      <td>a</td>\n",
       "      <td>20.785</td>\n",
       "    </tr>\n",
       "    <tr>\n",
       "      <th>2</th>\n",
       "      <td>d</td>\n",
       "      <td>20.784</td>\n",
       "    </tr>\n",
       "  </tbody>\n",
       "</table>\n",
       "</div>"
      ],
      "text/plain": [
       "  C1      C3\n",
       "0  a  20.785\n",
       "2  d  20.784"
      ]
     },
     "metadata": {},
     "output_type": "display_data"
    },
    {
     "data": {
      "text/html": [
       "<div>\n",
       "<style scoped>\n",
       "    .dataframe tbody tr th:only-of-type {\n",
       "        vertical-align: middle;\n",
       "    }\n",
       "\n",
       "    .dataframe tbody tr th {\n",
       "        vertical-align: top;\n",
       "    }\n",
       "\n",
       "    .dataframe thead th {\n",
       "        text-align: right;\n",
       "    }\n",
       "</style>\n",
       "<table border=\"1\" class=\"dataframe\">\n",
       "  <thead>\n",
       "    <tr style=\"text-align: right;\">\n",
       "      <th></th>\n",
       "      <th>C1</th>\n",
       "      <th>C3</th>\n",
       "    </tr>\n",
       "  </thead>\n",
       "  <tbody>\n",
       "    <tr>\n",
       "      <th>0</th>\n",
       "      <td>a</td>\n",
       "      <td>20.785</td>\n",
       "    </tr>\n",
       "    <tr>\n",
       "      <th>1</th>\n",
       "      <td>b</td>\n",
       "      <td>4.000</td>\n",
       "    </tr>\n",
       "    <tr>\n",
       "      <th>2</th>\n",
       "      <td>d</td>\n",
       "      <td>20.784</td>\n",
       "    </tr>\n",
       "  </tbody>\n",
       "</table>\n",
       "</div>"
      ],
      "text/plain": [
       "  C1      C3\n",
       "0  a  20.785\n",
       "1  b   4.000\n",
       "2  d  20.784"
      ]
     },
     "metadata": {},
     "output_type": "display_data"
    }
   ],
   "source": [
    "display(data_2, data_2.dropna(), data_2.fillna(4))"
   ]
  },
  {
   "cell_type": "markdown",
   "metadata": {},
   "source": [
    "To receive a summary of helpful aggregations, you can call ``.info()`` and  ``.describe()`` on any DataFrame:"
   ]
  },
  {
   "cell_type": "code",
   "execution_count": 95,
   "metadata": {},
   "outputs": [
    {
     "name": "stdout",
     "output_type": "stream",
     "text": [
      "<class 'pandas.core.frame.DataFrame'>\n",
      "RangeIndex: 150 entries, 0 to 149\n",
      "Data columns (total 6 columns):\n",
      " #   Column        Non-Null Count  Dtype  \n",
      "---  ------        --------------  -----  \n",
      " 0   sepal_length  150 non-null    float64\n",
      " 1   sepal_width   150 non-null    float64\n",
      " 2   petal_length  150 non-null    float64\n",
      " 3   petal_width   150 non-null    float64\n",
      " 4   class         150 non-null    object \n",
      " 5   class_id      150 non-null    int64  \n",
      "dtypes: float64(4), int64(1), object(1)\n",
      "memory usage: 7.2+ KB\n"
     ]
    },
    {
     "data": {
      "text/plain": [
       "None"
      ]
     },
     "metadata": {},
     "output_type": "display_data"
    },
    {
     "data": {
      "text/html": [
       "<div>\n",
       "<style scoped>\n",
       "    .dataframe tbody tr th:only-of-type {\n",
       "        vertical-align: middle;\n",
       "    }\n",
       "\n",
       "    .dataframe tbody tr th {\n",
       "        vertical-align: top;\n",
       "    }\n",
       "\n",
       "    .dataframe thead th {\n",
       "        text-align: right;\n",
       "    }\n",
       "</style>\n",
       "<table border=\"1\" class=\"dataframe\">\n",
       "  <thead>\n",
       "    <tr style=\"text-align: right;\">\n",
       "      <th></th>\n",
       "      <th>sepal_length</th>\n",
       "      <th>sepal_width</th>\n",
       "      <th>petal_length</th>\n",
       "      <th>petal_width</th>\n",
       "      <th>class_id</th>\n",
       "    </tr>\n",
       "  </thead>\n",
       "  <tbody>\n",
       "    <tr>\n",
       "      <th>count</th>\n",
       "      <td>150.000000</td>\n",
       "      <td>150.000000</td>\n",
       "      <td>150.000000</td>\n",
       "      <td>150.000000</td>\n",
       "      <td>150.000000</td>\n",
       "    </tr>\n",
       "    <tr>\n",
       "      <th>mean</th>\n",
       "      <td>5.843333</td>\n",
       "      <td>3.054000</td>\n",
       "      <td>3.758667</td>\n",
       "      <td>1.198667</td>\n",
       "      <td>1.000000</td>\n",
       "    </tr>\n",
       "    <tr>\n",
       "      <th>std</th>\n",
       "      <td>0.828066</td>\n",
       "      <td>0.433594</td>\n",
       "      <td>1.764420</td>\n",
       "      <td>0.763161</td>\n",
       "      <td>0.819232</td>\n",
       "    </tr>\n",
       "    <tr>\n",
       "      <th>min</th>\n",
       "      <td>4.300000</td>\n",
       "      <td>2.000000</td>\n",
       "      <td>1.000000</td>\n",
       "      <td>0.100000</td>\n",
       "      <td>0.000000</td>\n",
       "    </tr>\n",
       "    <tr>\n",
       "      <th>25%</th>\n",
       "      <td>5.100000</td>\n",
       "      <td>2.800000</td>\n",
       "      <td>1.600000</td>\n",
       "      <td>0.300000</td>\n",
       "      <td>0.000000</td>\n",
       "    </tr>\n",
       "    <tr>\n",
       "      <th>50%</th>\n",
       "      <td>5.800000</td>\n",
       "      <td>3.000000</td>\n",
       "      <td>4.350000</td>\n",
       "      <td>1.300000</td>\n",
       "      <td>1.000000</td>\n",
       "    </tr>\n",
       "    <tr>\n",
       "      <th>75%</th>\n",
       "      <td>6.400000</td>\n",
       "      <td>3.300000</td>\n",
       "      <td>5.100000</td>\n",
       "      <td>1.800000</td>\n",
       "      <td>2.000000</td>\n",
       "    </tr>\n",
       "    <tr>\n",
       "      <th>max</th>\n",
       "      <td>7.900000</td>\n",
       "      <td>4.400000</td>\n",
       "      <td>6.900000</td>\n",
       "      <td>2.500000</td>\n",
       "      <td>2.000000</td>\n",
       "    </tr>\n",
       "  </tbody>\n",
       "</table>\n",
       "</div>"
      ],
      "text/plain": [
       "       sepal_length  sepal_width  petal_length  petal_width    class_id\n",
       "count    150.000000   150.000000    150.000000   150.000000  150.000000\n",
       "mean       5.843333     3.054000      3.758667     1.198667    1.000000\n",
       "std        0.828066     0.433594      1.764420     0.763161    0.819232\n",
       "min        4.300000     2.000000      1.000000     0.100000    0.000000\n",
       "25%        5.100000     2.800000      1.600000     0.300000    0.000000\n",
       "50%        5.800000     3.000000      4.350000     1.300000    1.000000\n",
       "75%        6.400000     3.300000      5.100000     1.800000    2.000000\n",
       "max        7.900000     4.400000      6.900000     2.500000    2.000000"
      ]
     },
     "metadata": {},
     "output_type": "display_data"
    }
   ],
   "source": [
    "display(iris_data.info(), iris_data.describe())"
   ]
  },
  {
   "cell_type": "markdown",
   "metadata": {},
   "source": [
    "#### 2.3.5: ✏️ Pandas Excercises\n",
    "1. Create a DataFrame based on the given data and output information about the DataFrame, e.g. the datatypes and descriptive statistics of the numerical columns."
   ]
  },
  {
   "cell_type": "code",
   "execution_count": 96,
   "metadata": {},
   "outputs": [
    {
     "name": "stdout",
     "output_type": "stream",
     "text": [
      "<class 'pandas.core.frame.DataFrame'>\n",
      "Index: 10 entries, a to j\n",
      "Data columns (total 4 columns):\n",
      " #   Column    Non-Null Count  Dtype  \n",
      "---  ------    --------------  -----  \n",
      " 0   name      10 non-null     object \n",
      " 1   score     8 non-null      float64\n",
      " 2   attempts  10 non-null     int64  \n",
      " 3   qualify   10 non-null     object \n",
      "dtypes: float64(1), int64(1), object(2)\n",
      "memory usage: 400.0+ bytes\n"
     ]
    },
    {
     "data": {
      "text/plain": [
       "None"
      ]
     },
     "metadata": {},
     "output_type": "display_data"
    },
    {
     "data": {
      "text/html": [
       "<div>\n",
       "<style scoped>\n",
       "    .dataframe tbody tr th:only-of-type {\n",
       "        vertical-align: middle;\n",
       "    }\n",
       "\n",
       "    .dataframe tbody tr th {\n",
       "        vertical-align: top;\n",
       "    }\n",
       "\n",
       "    .dataframe thead th {\n",
       "        text-align: right;\n",
       "    }\n",
       "</style>\n",
       "<table border=\"1\" class=\"dataframe\">\n",
       "  <thead>\n",
       "    <tr style=\"text-align: right;\">\n",
       "      <th></th>\n",
       "      <th>score</th>\n",
       "      <th>attempts</th>\n",
       "    </tr>\n",
       "  </thead>\n",
       "  <tbody>\n",
       "    <tr>\n",
       "      <th>count</th>\n",
       "      <td>8.000000</td>\n",
       "      <td>10.000000</td>\n",
       "    </tr>\n",
       "    <tr>\n",
       "      <th>mean</th>\n",
       "      <td>13.562500</td>\n",
       "      <td>1.900000</td>\n",
       "    </tr>\n",
       "    <tr>\n",
       "      <th>std</th>\n",
       "      <td>4.693746</td>\n",
       "      <td>0.875595</td>\n",
       "    </tr>\n",
       "    <tr>\n",
       "      <th>min</th>\n",
       "      <td>8.000000</td>\n",
       "      <td>1.000000</td>\n",
       "    </tr>\n",
       "    <tr>\n",
       "      <th>25%</th>\n",
       "      <td>9.000000</td>\n",
       "      <td>1.000000</td>\n",
       "    </tr>\n",
       "    <tr>\n",
       "      <th>50%</th>\n",
       "      <td>13.500000</td>\n",
       "      <td>2.000000</td>\n",
       "    </tr>\n",
       "    <tr>\n",
       "      <th>75%</th>\n",
       "      <td>17.125000</td>\n",
       "      <td>2.750000</td>\n",
       "    </tr>\n",
       "    <tr>\n",
       "      <th>max</th>\n",
       "      <td>20.000000</td>\n",
       "      <td>3.000000</td>\n",
       "    </tr>\n",
       "  </tbody>\n",
       "</table>\n",
       "</div>"
      ],
      "text/plain": [
       "           score   attempts\n",
       "count   8.000000  10.000000\n",
       "mean   13.562500   1.900000\n",
       "std     4.693746   0.875595\n",
       "min     8.000000   1.000000\n",
       "25%     9.000000   1.000000\n",
       "50%    13.500000   2.000000\n",
       "75%    17.125000   2.750000\n",
       "max    20.000000   3.000000"
      ]
     },
     "metadata": {},
     "output_type": "display_data"
    }
   ],
   "source": [
    "exam_data = {\n",
    "    \"name\": [\"Anastasia\", \"Dima\", \"Katherine\", \"James\", \"Emily\", \"Michael\", \"Matthew\", \"Laura\", \"Kevin\", \"Jonas\"],\n",
    "    \"score\": [12.5, 9, 16.5, np.nan, 9, 20, 14.5, np.nan, 8, 19],\n",
    "    \"attempts\": [1, 3, 2, 3, 2, 3, 1, 1, 2, 1],\n",
    "    \"qualify\": [\"yes\", \"no\", \"yes\", \"no\", \"no\", \"yes\", \"yes\", \"no\", \"no\", \"yes\"],\n",
    "}\n",
    "index = [\"a\", \"b\", \"c\", \"d\", \"e\", \"f\", \"g\", \"h\", \"i\", \"j\"]\n",
    "\n",
    "# TODO: Implement"
   ]
  },
  {
   "cell_type": "markdown",
   "metadata": {},
   "source": [
    "2. Calculate just the average _score_ of all students in the given dataset (without the other information)"
   ]
  },
  {
   "cell_type": "code",
   "execution_count": 97,
   "metadata": {},
   "outputs": [
    {
     "name": "stdout",
     "output_type": "stream",
     "text": [
      "13.5625\n"
     ]
    }
   ],
   "source": [
    "# TODO: Implement"
   ]
  },
  {
   "cell_type": "markdown",
   "metadata": {},
   "source": [
    "3. Create a copy of the given DataFrame and add a new column _color_ to it. Then output the first 4 rows."
   ]
  },
  {
   "cell_type": "code",
   "execution_count": 98,
   "metadata": {},
   "outputs": [
    {
     "data": {
      "text/html": [
       "<div>\n",
       "<style scoped>\n",
       "    .dataframe tbody tr th:only-of-type {\n",
       "        vertical-align: middle;\n",
       "    }\n",
       "\n",
       "    .dataframe tbody tr th {\n",
       "        vertical-align: top;\n",
       "    }\n",
       "\n",
       "    .dataframe thead th {\n",
       "        text-align: right;\n",
       "    }\n",
       "</style>\n",
       "<table border=\"1\" class=\"dataframe\">\n",
       "  <thead>\n",
       "    <tr style=\"text-align: right;\">\n",
       "      <th></th>\n",
       "      <th>name</th>\n",
       "      <th>score</th>\n",
       "      <th>attempts</th>\n",
       "      <th>qualify</th>\n",
       "      <th>color</th>\n",
       "    </tr>\n",
       "  </thead>\n",
       "  <tbody>\n",
       "    <tr>\n",
       "      <th>a</th>\n",
       "      <td>Anastasia</td>\n",
       "      <td>12.5</td>\n",
       "      <td>1</td>\n",
       "      <td>yes</td>\n",
       "      <td>Red</td>\n",
       "    </tr>\n",
       "    <tr>\n",
       "      <th>b</th>\n",
       "      <td>Dima</td>\n",
       "      <td>9.0</td>\n",
       "      <td>3</td>\n",
       "      <td>no</td>\n",
       "      <td>Blue</td>\n",
       "    </tr>\n",
       "    <tr>\n",
       "      <th>c</th>\n",
       "      <td>Katherine</td>\n",
       "      <td>16.5</td>\n",
       "      <td>2</td>\n",
       "      <td>yes</td>\n",
       "      <td>Orange</td>\n",
       "    </tr>\n",
       "    <tr>\n",
       "      <th>d</th>\n",
       "      <td>James</td>\n",
       "      <td>NaN</td>\n",
       "      <td>3</td>\n",
       "      <td>no</td>\n",
       "      <td>Red</td>\n",
       "    </tr>\n",
       "  </tbody>\n",
       "</table>\n",
       "</div>"
      ],
      "text/plain": [
       "        name  score  attempts qualify   color\n",
       "a  Anastasia   12.5         1     yes     Red\n",
       "b       Dima    9.0         3      no    Blue\n",
       "c  Katherine   16.5         2     yes  Orange\n",
       "d      James    NaN         3      no     Red"
      ]
     },
     "execution_count": 98,
     "metadata": {},
     "output_type": "execute_result"
    }
   ],
   "source": [
    "colors = [\"Red\", \"Blue\",  \"Orange\", \"Red\", \"White\", \"White\", \"Blue\", \"Green\", \"Green\", \"Red\"]\n",
    "\n",
    "# TODO: Implement"
   ]
  },
  {
   "cell_type": "markdown",
   "metadata": {},
   "source": [
    "4. Calculate the mean _score_ for both the students that qualify and those that don't, separately"
   ]
  },
  {
   "cell_type": "code",
   "execution_count": 99,
   "metadata": {},
   "outputs": [
    {
     "data": {
      "text/plain": [
       "qualify\n",
       "no      8.666667\n",
       "yes    16.500000\n",
       "Name: score, dtype: float64"
      ]
     },
     "execution_count": 99,
     "metadata": {},
     "output_type": "execute_result"
    }
   ],
   "source": [
    "# TODO: Implement"
   ]
  },
  {
   "cell_type": "markdown",
   "metadata": {},
   "source": [
    "5. Calculate the mean _score_ and number of _attempts_ while grouping by both the _qualify_ and the _color_ column"
   ]
  },
  {
   "cell_type": "code",
   "execution_count": 100,
   "metadata": {},
   "outputs": [
    {
     "data": {
      "text/html": [
       "<div>\n",
       "<style scoped>\n",
       "    .dataframe tbody tr th:only-of-type {\n",
       "        vertical-align: middle;\n",
       "    }\n",
       "\n",
       "    .dataframe tbody tr th {\n",
       "        vertical-align: top;\n",
       "    }\n",
       "\n",
       "    .dataframe thead th {\n",
       "        text-align: right;\n",
       "    }\n",
       "</style>\n",
       "<table border=\"1\" class=\"dataframe\">\n",
       "  <thead>\n",
       "    <tr style=\"text-align: right;\">\n",
       "      <th></th>\n",
       "      <th></th>\n",
       "      <th>score</th>\n",
       "      <th>attempts</th>\n",
       "    </tr>\n",
       "    <tr>\n",
       "      <th>qualify</th>\n",
       "      <th>color</th>\n",
       "      <th></th>\n",
       "      <th></th>\n",
       "    </tr>\n",
       "  </thead>\n",
       "  <tbody>\n",
       "    <tr>\n",
       "      <th rowspan=\"4\" valign=\"top\">no</th>\n",
       "      <th>Blue</th>\n",
       "      <td>9.00</td>\n",
       "      <td>3.0</td>\n",
       "    </tr>\n",
       "    <tr>\n",
       "      <th>Green</th>\n",
       "      <td>8.00</td>\n",
       "      <td>1.5</td>\n",
       "    </tr>\n",
       "    <tr>\n",
       "      <th>Red</th>\n",
       "      <td>NaN</td>\n",
       "      <td>3.0</td>\n",
       "    </tr>\n",
       "    <tr>\n",
       "      <th>White</th>\n",
       "      <td>9.00</td>\n",
       "      <td>2.0</td>\n",
       "    </tr>\n",
       "    <tr>\n",
       "      <th rowspan=\"4\" valign=\"top\">yes</th>\n",
       "      <th>Blue</th>\n",
       "      <td>14.50</td>\n",
       "      <td>1.0</td>\n",
       "    </tr>\n",
       "    <tr>\n",
       "      <th>Orange</th>\n",
       "      <td>16.50</td>\n",
       "      <td>2.0</td>\n",
       "    </tr>\n",
       "    <tr>\n",
       "      <th>Red</th>\n",
       "      <td>15.75</td>\n",
       "      <td>1.0</td>\n",
       "    </tr>\n",
       "    <tr>\n",
       "      <th>White</th>\n",
       "      <td>20.00</td>\n",
       "      <td>3.0</td>\n",
       "    </tr>\n",
       "  </tbody>\n",
       "</table>\n",
       "</div>"
      ],
      "text/plain": [
       "                score  attempts\n",
       "qualify color                  \n",
       "no      Blue     9.00       3.0\n",
       "        Green    8.00       1.5\n",
       "        Red       NaN       3.0\n",
       "        White    9.00       2.0\n",
       "yes     Blue    14.50       1.0\n",
       "        Orange  16.50       2.0\n",
       "        Red     15.75       1.0\n",
       "        White   20.00       3.0"
      ]
     },
     "execution_count": 100,
     "metadata": {},
     "output_type": "execute_result"
    }
   ],
   "source": [
    "# TODO: Implement"
   ]
  },
  {
   "cell_type": "markdown",
   "metadata": {},
   "source": [
    "6. In the DataFrame from (5.), access the value of the mean _score_ of people that like the _color_ White but don't _qualify_."
   ]
  },
  {
   "cell_type": "code",
   "execution_count": 101,
   "metadata": {},
   "outputs": [
    {
     "data": {
      "text/plain": [
       "9.0"
      ]
     },
     "execution_count": 101,
     "metadata": {},
     "output_type": "execute_result"
    }
   ],
   "source": [
    "# TODO: Implement"
   ]
  }
 ],
 "metadata": {
  "kernelspec": {
   "display_name": "Python 3",
   "language": "python",
   "name": "python3"
  },
  "language_info": {
   "codemirror_mode": {
    "name": "ipython",
    "version": 3
   },
   "file_extension": ".py",
   "mimetype": "text/x-python",
   "name": "python",
   "nbconvert_exporter": "python",
   "pygments_lexer": "ipython3",
   "version": "3.11.3"
  }
 },
 "nbformat": 4,
 "nbformat_minor": 4
}
